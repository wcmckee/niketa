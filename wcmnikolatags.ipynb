{
 "cells": [
  {
   "cell_type": "markdown",
   "metadata": {},
   "source": [
    "wcm Nikola Tags\n",
    "\n",
    "convert ipynb/py doc imports as tags for nikola blog .meta files.\n",
    "\n",
    "When user searches for notebook to blog with bbknikola python script also get the tags for the .meta file. Open up the .py file and convert this:\n",
    "\n",
    "blogpost.py\n",
    "\n",
    "import requests\n",
    "import os\n",
    "import re\n",
    "\n",
    "Into:\n",
    "\n",
    "blogpost.meta\n",
    "\n",
    "blogpost\n",
    "blogpost\n",
    "2015/02/31 00:00:00\n",
    "requests, os, re"
   ]
  },
  {
   "cell_type": "markdown",
   "metadata": {},
   "source": [
    "Categorie can be the name of the repo.\n",
    "Need a repo for Nikola scripts"
   ]
  },
  {
   "cell_type": "code",
   "execution_count": null,
   "metadata": {
    "collapsed": true
   },
   "outputs": [],
   "source": []
  }
 ],
 "metadata": {
  "kernelspec": {
   "display_name": "Python 2",
   "language": "python",
   "name": "python2"
  },
  "language_info": {
   "codemirror_mode": {
    "name": "ipython",
    "version": 2
   },
   "file_extension": ".py",
   "mimetype": "text/x-python",
   "name": "python",
   "nbconvert_exporter": "python",
   "pygments_lexer": "ipython2",
   "version": "2.7.3"
  }
 },
 "nbformat": 4,
 "nbformat_minor": 0
}
