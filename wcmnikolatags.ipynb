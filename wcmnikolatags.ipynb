{
 "cells": [
  {
   "cell_type": "markdown",
   "metadata": {},
   "source": [
    "wcm Nikola Tags\n",
    "\n",
    "convert ipynb/py doc imports as tags for nikola blog .meta files.\n",
    "\n",
    "When user searches for notebook to blog with bbknikola python script also get the tags for the .meta file. Open up the .py file and convert this:\n",
    "\n",
    "blogpost.py\n",
    "\n",
    "import requests\n",
    "import os\n",
    "import re\n",
    "\n",
    "Into:\n",
    "\n",
    "blogpost.meta\n",
    "\n",
    "blogpost\n",
    "blogpost\n",
    "2015/02/31 00:00:00\n",
    "requests, os, re"
   ]
  },
  {
   "cell_type": "markdown",
   "metadata": {},
   "source": [
    "Categorie can be the name of the repo.\n",
    "Need a repo for Nikola scripts"
   ]
  },
  {
   "cell_type": "code",
   "execution_count": 28,
   "metadata": {
    "collapsed": false
   },
   "outputs": [],
   "source": [
    "import os\n",
    "from walkdir import filtered_walk, dir_paths, all_paths, file_paths\n"
   ]
  },
  {
   "cell_type": "code",
   "execution_count": 29,
   "metadata": {
    "collapsed": false
   },
   "outputs": [
    {
     "name": "stdout",
     "output_type": "stream",
     "text": [
      "Name of notebook to tag: wcmnikolatags\n"
     ]
    }
   ],
   "source": [
    "nbog = raw_input('Name of notebook to tag: ')"
   ]
  },
  {
   "cell_type": "code",
   "execution_count": 30,
   "metadata": {
    "collapsed": false
   },
   "outputs": [],
   "source": [
    "files = file_paths(filtered_walk('/home/wcmckee/github/', depth=100, included_files=[nbog + '.ipynb']))"
   ]
  },
  {
   "cell_type": "code",
   "execution_count": 35,
   "metadata": {
    "collapsed": false
   },
   "outputs": [],
   "source": [
    "#Easier to access ipynb and access the code import cell.\n",
    "#Parse the notebook for import tags\n",
    "#IPython module wrapper for returning list of imported modules\n",
    "#from a ipynb file. \n",
    "#Get the list of modules for tags from this."
   ]
  },
  {
   "cell_type": "code",
   "execution_count": 82,
   "metadata": {
    "collapsed": false
   },
   "outputs": [],
   "source": [
    "from IPython import start_ipython, terminal"
   ]
  },
  {
   "cell_type": "code",
   "execution_count": 83,
   "metadata": {
    "collapsed": false
   },
   "outputs": [],
   "source": [
    "termem = terminal.embed"
   ]
  },
  {
   "cell_type": "code",
   "execution_count": 84,
   "metadata": {
    "collapsed": false
   },
   "outputs": [],
   "source": [
    "tered = termem.embed"
   ]
  },
  {
   "cell_type": "code",
   "execution_count": 85,
   "metadata": {
    "collapsed": false
   },
   "outputs": [
    {
     "data": {
      "text/plain": [
       "<function IPython.terminal.embed.embed>"
      ]
     },
     "execution_count": 85,
     "metadata": {},
     "output_type": "execute_result"
    }
   ],
   "source": [
    "tered"
   ]
  },
  {
   "cell_type": "code",
   "execution_count": 86,
   "metadata": {
    "collapsed": false
   },
   "outputs": [
    {
     "name": "stdout",
     "output_type": "stream",
     "text": [
      "<function embed at 0x9463994>\n"
     ]
    }
   ],
   "source": [
    "#print(tered)"
   ]
  },
  {
   "cell_type": "code",
   "execution_count": null,
   "metadata": {
    "collapsed": true
   },
   "outputs": [],
   "source": []
  },
  {
   "cell_type": "code",
   "execution_count": 87,
   "metadata": {
    "collapsed": false
   },
   "outputs": [
    {
     "data": {
      "text/plain": [
       "<function IPython.start_ipython>"
      ]
     },
     "execution_count": 87,
     "metadata": {},
     "output_type": "execute_result"
    }
   ],
   "source": [
    "#start_ipython"
   ]
  },
  {
   "cell_type": "code",
   "execution_count": 88,
   "metadata": {
    "collapsed": true
   },
   "outputs": [],
   "source": [
    "#from IPython import core"
   ]
  },
  {
   "cell_type": "code",
   "execution_count": 89,
   "metadata": {
    "collapsed": false
   },
   "outputs": [
    {
     "ename": "TypeError",
     "evalue": "'module' object is not iterable",
     "output_type": "error",
     "traceback": [
      "\u001b[1;31m---------------------------------------------------------------------------\u001b[0m",
      "\u001b[1;31mTypeError\u001b[0m                                 Traceback (most recent call last)",
      "\u001b[1;32m<ipython-input-89-69bea3584e57>\u001b[0m in \u001b[0;36m<module>\u001b[1;34m()\u001b[0m\n\u001b[1;32m----> 1\u001b[1;33m \u001b[1;32mfor\u001b[0m \u001b[0mstrcr\u001b[0m \u001b[1;32min\u001b[0m \u001b[1;33m(\u001b[0m\u001b[0mcore\u001b[0m\u001b[1;33m.\u001b[0m\u001b[0mhistory\u001b[0m\u001b[1;33m)\u001b[0m\u001b[1;33m:\u001b[0m\u001b[1;33m\u001b[0m\u001b[0m\n\u001b[0m\u001b[0;32m      2\u001b[0m     \u001b[1;32mprint\u001b[0m \u001b[0mstrcr\u001b[0m\u001b[1;33m\u001b[0m\u001b[0m\n",
      "\u001b[1;31mTypeError\u001b[0m: 'module' object is not iterable"
     ]
    }
   ],
   "source": [
    "#for strcr in (core.history):\n",
    "#    print strcr"
   ]
  },
  {
   "cell_type": "code",
   "execution_count": 90,
   "metadata": {
    "collapsed": false
   },
   "outputs": [],
   "source": [
    "gipt = core.getipython.get_ipython()"
   ]
  },
  {
   "cell_type": "code",
   "execution_count": 91,
   "metadata": {
    "collapsed": false
   },
   "outputs": [
    {
     "data": {
      "text/plain": [
       "<IPython.kernel.zmq.zmqshell.ZMQInteractiveShell at 0x96e39cc>"
      ]
     },
     "execution_count": 91,
     "metadata": {},
     "output_type": "execute_result"
    }
   ],
   "source": [
    "gipt"
   ]
  },
  {
   "cell_type": "code",
   "execution_count": 92,
   "metadata": {
    "collapsed": false
   },
   "outputs": [
    {
     "name": "stdout",
     "output_type": "stream",
     "text": [
      "Str to complete: im\n"
     ]
    }
   ],
   "source": [
    "strtoc = raw_input('Str to complete: ')"
   ]
  },
  {
   "cell_type": "code",
   "execution_count": 93,
   "metadata": {
    "collapsed": false
   },
   "outputs": [
    {
     "data": {
      "text/plain": [
       "['import']"
      ]
     },
     "execution_count": 93,
     "metadata": {},
     "output_type": "execute_result"
    }
   ],
   "source": [
    "gipt.Completer.all_completions(strtoc)"
   ]
  },
  {
   "cell_type": "code",
   "execution_count": 59,
   "metadata": {
    "collapsed": false
   },
   "outputs": [
    {
     "name": "stdout",
     "output_type": "stream",
     "text": [
      "print \"hello world\""
     ]
    }
   ],
   "source": [
    "gipt.write('print \"hello world\"')"
   ]
  },
  {
   "cell_type": "code",
   "execution_count": 106,
   "metadata": {
    "collapsed": false
   },
   "outputs": [
    {
     "name": "stdout",
     "output_type": "stream",
     "text": [
      "hello world\n"
     ]
    },
    {
     "data": {
      "text/plain": [
       "0"
      ]
     },
     "execution_count": 106,
     "metadata": {},
     "output_type": "execute_result"
    }
   ],
   "source": [
    "gipt.runcode('print (\"hello world\")')"
   ]
  },
  {
   "cell_type": "code",
   "execution_count": 107,
   "metadata": {
    "collapsed": true
   },
   "outputs": [],
   "source": [
    "os.chdir('/home/wcmckee')"
   ]
  },
  {
   "cell_type": "code",
   "execution_count": null,
   "metadata": {
    "collapsed": false
   },
   "outputs": [],
   "source": [
    "nr"
   ]
  },
  {
   "cell_type": "code",
   "execution_count": 63,
   "metadata": {
    "collapsed": false
   },
   "outputs": [
    {
     "data": {
      "text/plain": [
       "<bound method ZMQInteractiveShell.init_logstart of <IPython.kernel.zmq.zmqshell.ZMQInteractiveShell object at 0x96e39cc>>"
      ]
     },
     "execution_count": 63,
     "metadata": {},
     "output_type": "execute_result"
    }
   ],
   "source": [
    "gipt.init_logstart"
   ]
  },
  {
   "cell_type": "code",
   "execution_count": 98,
   "metadata": {
    "collapsed": false
   },
   "outputs": [
    {
     "name": "stdout",
     "output_type": "stream",
     "text": [
      "None\n"
     ]
    }
   ],
   "source": [
    "print gipt.init_history()"
   ]
  },
  {
   "cell_type": "code",
   "execution_count": 100,
   "metadata": {
    "collapsed": false
   },
   "outputs": [
    {
     "name": "stdout",
     "output_type": "stream",
     "text": [
      "10000\n"
     ]
    }
   ],
   "source": [
    "print gipt.history_length"
   ]
  },
  {
   "cell_type": "code",
   "execution_count": 103,
   "metadata": {
    "collapsed": false
   },
   "outputs": [
    {
     "name": "stdout",
     "output_type": "stream",
     "text": [
      "<IPython.core.compilerop.CachingCompiler instance at 0x96e340c>\n"
     ]
    }
   ],
   "source": [
    "print gipt.compile"
   ]
  },
  {
   "cell_type": "code",
   "execution_count": 104,
   "metadata": {
    "collapsed": false
   },
   "outputs": [
    {
     "name": "stdout",
     "output_type": "stream",
     "text": [
      "[<IPython.kernel.zmq.zmqshell.ZMQInteractiveShell object at 0x96e39cc>, <IPython.core.history.HistoryManager object at 0x96e76cc>, <IPython.core.prefilter.PrefilterManager object at 0x96ea84c>, <IPython.core.completer.IPCompleter object at 0x96ef3ac>, <IPython.core.prompts.PromptManager object at 0x96efe2c>, <IPython.core.formatters.DisplayFormatter object at 0x96efe4c>, <IPython.kernel.zmq.zmqshell.ZMQDisplayPublisher object at 0x96f64ec>, <IPython.kernel.zmq.datapub.ZMQDataPublisher object at 0x96f640c>, <IPython.kernel.zmq.displayhook.ZMQShellDisplayHook object at 0x96f660c>, <IPython.core.magics.UserMagics object at 0x96f686c>, <IPython.core.magic.MagicsManager object at 0x96f67ec>, <IPython.core.magics.auto.AutoMagics object at 0x96f692c>, <IPython.core.magics.basic.BasicMagics object at 0x96f63cc>, <IPython.core.magics.code.CodeMagics object at 0x96f698c>, <IPython.core.magics.config.ConfigMagics object at 0x96f69ac>, <IPython.core.magics.deprecated.DeprecatedMagics object at 0x96f6a2c>, <IPython.core.magics.display.DisplayMagics object at 0x96efc6c>, <IPython.core.magics.execution.ExecutionMagics object at 0x96f6a4c>, <IPython.core.magics.extension.ExtensionMagics object at 0x96f69ec>, <IPython.core.magics.history.HistoryMagics object at 0x96f68ec>, <IPython.core.magics.logging.LoggingMagics object at 0x96f6a6c>, <IPython.core.magics.namespace.NamespaceMagics object at 0x96f6a8c>, <IPython.core.magics.osm.OSMagics object at 0x96f6acc>, <IPython.core.magics.pylab.PylabMagics object at 0x96f6aec>, <IPython.core.magics.script.ScriptMagics object at 0x96f6b0c>, <IPython.kernel.zmq.zmqshell.KernelMagics object at 0x97072ec>, <IPython.core.alias.AliasManager object at 0x96f68ac>, <IPython.core.extensions.ExtensionManager object at 0x96f6b4c>, <IPython.core.payload.PayloadManager object at 0x970750c>, <IPython.kernel.comm.manager.CommManager object at 0x96eff2c>, <IPython.kernel.zmq.kernelapp.IPKernelApp object at 0x9664b0c>, <storemagic.StoreMagics object at 0x9707a0c>, <storemagic.StoreMagics object at 0x9707a0c>, <IPython.core.history.HistoryManager object at 0x98a204c>, <IPython.core.history.HistoryManager object at 0x98a23ec>]\n"
     ]
    }
   ],
   "source": [
    "print gipt.configurables"
   ]
  },
  {
   "cell_type": "code",
   "execution_count": 32,
   "metadata": {
    "collapsed": false,
    "scrolled": true
   },
   "outputs": [
    {
     "name": "stdout",
     "output_type": "stream",
     "text": [
      "{\n",
      " \"cells\": [\n",
      "  {\n",
      "   \"cell_type\": \"markdown\",\n",
      "   \"metadata\": {},\n",
      "   \"source\": [\n",
      "    \"wcm Nikola Tags\\n\",\n",
      "    \"\\n\",\n",
      "    \"convert ipynb/py doc imports as tags for nikola blog .meta files.\\n\",\n",
      "    \"\\n\",\n",
      "    \"When user searches for notebook to blog with bbknikola python script also get the tags for the .meta file. Open up the .py file and convert this:\\n\",\n",
      "    \"\\n\",\n",
      "    \"blogpost.py\\n\",\n",
      "    \"\\n\",\n",
      "    \"import requests\\n\",\n",
      "    \"import os\\n\",\n",
      "    \"import re\\n\",\n",
      "    \"\\n\",\n",
      "    \"Into:\\n\",\n",
      "    \"\\n\",\n",
      "    \"blogpost.meta\\n\",\n",
      "    \"\\n\",\n",
      "    \"blogpost\\n\",\n",
      "    \"blogpost\\n\",\n",
      "    \"2015/02/31 00:00:00\\n\",\n",
      "    \"requests, os, re\"\n",
      "   ]\n",
      "  },\n",
      "  {\n",
      "   \"cell_type\": \"markdown\",\n",
      "   \"metadata\": {},\n",
      "   \"source\": [\n",
      "    \"Categorie can be the name of the repo.\\n\",\n",
      "    \"Need a repo for Nikola scripts\"\n",
      "   ]\n",
      "  },\n",
      "  {\n",
      "   \"cell_type\": \"code\",\n",
      "   \"execution_count\": 20,\n",
      "   \"metadata\": {\n",
      "    \"collapsed\": false\n",
      "   },\n",
      "   \"outputs\": [],\n",
      "   \"source\": [\n",
      "    \"import os\\n\",\n",
      "    \"from walkdir import filtered_walk, dir_paths, all_paths, file_paths\\n\"\n",
      "   ]\n",
      "  },\n",
      "  {\n",
      "   \"cell_type\": \"code\",\n",
      "   \"execution_count\": 21,\n",
      "   \"metadata\": {\n",
      "    \"collapsed\": false\n",
      "   },\n",
      "   \"outputs\": [\n",
      "    {\n",
      "     \"name\": \"stdout\",\n",
      "     \"output_type\": \"stream\",\n",
      "     \"text\": [\n",
      "      \"Name of notebook to tag: wcmnikolatags\\n\"\n",
      "     ]\n",
      "    }\n",
      "   ],\n",
      "   \"source\": [\n",
      "    \"nbog = raw_input('Name of notebook to tag: ')\"\n",
      "   ]\n",
      "  },\n",
      "  {\n",
      "   \"cell_type\": \"code\",\n",
      "   \"execution_count\": 22,\n",
      "   \"metadata\": {\n",
      "    \"collapsed\": false\n",
      "   },\n",
      "   \"outputs\": [],\n",
      "   \"source\": [\n",
      "    \"files = file_paths(filtered_walk('/home/wcmckee/github/', depth=100, included_files=[nbog + '.py']))\"\n",
      "   ]\n",
      "  },\n",
      "  {\n",
      "   \"cell_type\": \"code\",\n",
      "   \"execution_count\": 23,\n",
      "   \"metadata\": {\n",
      "    \"collapsed\": false\n",
      "   },\n",
      "   \"outputs\": [\n",
      "    {\n",
      "     \"name\": \"stdout\",\n",
      "     \"output_type\": \"stream\",\n",
      "     \"text\": [\n",
      "      \"<generator object file_paths at 0x97ece14>\\n\"\n",
      "     ]\n",
      "    }\n",
      "   ],\n",
      "   \"source\": [\n",
      "    \"print files\"\n",
      "   ]\n",
      "  },\n",
      "  {\n",
      "   \"cell_type\": \"code\",\n",
      "   \"execution_count\": 24,\n",
      "   \"metadata\": {\n",
      "    \"collapsed\": false,\n",
      "    \"scrolled\": true\n",
      "   },\n",
      "   \"outputs\": [\n",
      "    {\n",
      "     \"name\": \"stdout\",\n",
      "     \"output_type\": \"stream\",\n",
      "     \"text\": [\n",
      "      \"\\n\",\n",
      "      \"# coding: utf-8\\n\",\n",
      "      \"\\n\",\n",
      "      \"# wcm Nikola Tags\\n\",\n",
      "      \"# \\n\",\n",
      "      \"# convert ipynb/py doc imports as tags for nikola blog .meta files.\\n\",\n",
      "      \"# \\n\",\n",
      "      \"# When user searches for notebook to blog with bbknikola python script also get the tags for the .meta file. Open up the .py file and convert this:\\n\",\n",
      "      \"# \\n\",\n",
      "      \"# blogpost.py\\n\",\n",
      "      \"# \\n\",\n",
      "      \"# import requests\\n\",\n",
      "      \"# import os\\n\",\n",
      "      \"# import re\\n\",\n",
      "      \"# \\n\",\n",
      "      \"# Into:\\n\",\n",
      "      \"# \\n\",\n",
      "      \"# blogpost.meta\\n\",\n",
      "      \"# \\n\",\n",
      "      \"# blogpost\\n\",\n",
      "      \"# blogpost\\n\",\n",
      "      \"# 2015/02/31 00:00:00\\n\",\n",
      "      \"# requests, os, re\\n\",\n",
      "      \"\\n\",\n",
      "      \"# Categorie can be the name of the repo.\\n\",\n",
      "      \"# Need a repo for Nikola scripts\\n\",\n",
      "      \"\\n\",\n",
      "      \"# In[13]:\\n\",\n",
      "      \"\\n\",\n",
      "      \"import os\\n\",\n",
      "      \"from walkdir import filtered_walk, dir_paths, all_paths, file_paths\\n\",\n",
      "      \"\\n\",\n",
      "      \"\\n\",\n",
      "      \"# In[14]:\\n\",\n",
      "      \"\\n\",\n",
      "      \"nbog = raw_input('Name of notebook to tag: ')\\n\",\n",
      "      \"\\n\",\n",
      "      \"\\n\",\n",
      "      \"# In[15]:\\n\",\n",
      "      \"\\n\",\n",
      "      \"files = file_paths(filtered_walk('/home/wcmckee/github/', depth=100, included_files=[nbog + '.py']))\\n\",\n",
      "      \"\\n\",\n",
      "      \"\\n\",\n",
      "      \"# In[16]:\\n\",\n",
      "      \"\\n\",\n",
      "      \"print files\\n\",\n",
      "      \"\\n\",\n",
      "      \"\\n\",\n",
      "      \"# In[17]:\\n\",\n",
      "      \"\\n\",\n",
      "      \"for fil in files:\\n\",\n",
      "      \"    #print fil\\n\",\n",
      "      \"    opfil = open(fil, 'r')\\n\",\n",
      "      \"    print opfil.read()\\n\",\n",
      "      \"    opfil.close()\\n\",\n",
      "      \"\\n\",\n",
      "      \"\\n\",\n",
      "      \"# In[19]:\\n\",\n",
      "      \"\\n\",\n",
      "      \"opfilz = open(fil, 'r')\\n\",\n",
      "      \"\\n\",\n",
      "      \"opfilz.read()\\n\",\n",
      "      \"\\n\",\n",
      "      \"\\n\",\n",
      "      \"# In[1]:\\n\",\n",
      "      \"\\n\",\n",
      "      \"#python module that can be used to scan .py files and return\\n\",\n",
      "      \"#the imports as a list.\\n\",\n",
      "      \"\\n\",\n",
      "      \"\\n\",\n",
      "      \"# In[ ]:\\n\",\n",
      "      \"\\n\",\n",
      "      \"\\n\",\n",
      "      \"\\n\",\n",
      "      \"\\n\"\n",
      "     ]\n",
      "    }\n",
      "   ],\n",
      "   \"source\": [\n",
      "    \"for fil in files:\\n\",\n",
      "    \"    #print fil\\n\",\n",
      "    \"    opfil = open(fil, 'r')\\n\",\n",
      "    \"    print opfil.read()\\n\",\n",
      "    \"    opfil.close()\"\n",
      "   ]\n",
      "  },\n",
      "  {\n",
      "   \"cell_type\": \"code\",\n",
      "   \"execution_count\": 27,\n",
      "   \"metadata\": {\n",
      "    \"collapsed\": false,\n",
      "    \"scrolled\": true\n",
      "   },\n",
      "   \"outputs\": [\n",
      "    {\n",
      "     \"data\": {\n",
      "      \"text/plain\": [\n",
      "       \"\\\"\\\\n# coding: utf-8\\\\n\\\\n# wcm Nikola Tags\\\\n# \\\\n# convert ipynb/py doc imports as tags for nikola blog .meta files.\\\\n# \\\\n# When user searches for notebook to blog with bbknikola python script also get the tags for the .meta file. Open up the .py file and convert this:\\\\n# \\\\n# blogpost.py\\\\n# \\\\n# import requests\\\\n# import os\\\\n# import re\\\\n# \\\\n# Into:\\\\n# \\\\n# blogpost.meta\\\\n# \\\\n# blogpost\\\\n# blogpost\\\\n# 2015/02/31 00:00:00\\\\n# requests, os, re\\\\n\\\\n# Categorie can be the name of the repo.\\\\n# Need a repo for Nikola scripts\\\\n\\\\n# In[13]:\\\\n\\\\nimport os\\\\nfrom walkdir import filtered_walk, dir_paths, all_paths, file_paths\\\\n\\\\n\\\\n# In[14]:\\\\n\\\\nnbog = raw_input('Name of notebook to tag: ')\\\\n\\\\n\\\\n# In[15]:\\\\n\\\\nfiles = file_paths(filtered_walk('/home/wcmckee/github/', depth=100, included_files=[nbog + '.py']))\\\\n\\\\n\\\\n# In[16]:\\\\n\\\\nprint files\\\\n\\\\n\\\\n# In[17]:\\\\n\\\\nfor fil in files:\\\\n    #print fil\\\\n    opfil = open(fil, 'r')\\\\n    print opfil.read()\\\\n    opfil.close()\\\\n\\\\n\\\\n# In[19]:\\\\n\\\\nopfilz = open(fil, 'r')\\\\n\\\\nopfilz.read()\\\\n\\\\n\\\\n# In[1]:\\\\n\\\\n#python module that can be used to scan .py files and return\\\\n#the imports as a list.\\\\n\\\\n\\\\n# In[ ]:\\\\n\\\\n\\\\n\\\\n\\\"\"\n",
      "      ]\n",
      "     },\n",
      "     \"execution_count\": 27,\n",
      "     \"metadata\": {},\n",
      "     \"output_type\": \"execute_result\"\n",
      "    }\n",
      "   ],\n",
      "   \"source\": [\n",
      "    \"opfilz = open(fil, 'r')\\n\",\n",
      "    \"\\n\",\n",
      "    \"opfilz.read()\"\n",
      "   ]\n",
      "  },\n",
      "  {\n",
      "   \"cell_type\": \"code\",\n",
      "   \"execution_count\": 26,\n",
      "   \"metadata\": {\n",
      "    \"collapsed\": true\n",
      "   },\n",
      "   \"outputs\": [],\n",
      "   \"source\": [\n",
      "    \"#python module that can be used to scan .py files and return\\n\",\n",
      "    \"#the imports as a list.\"\n",
      "   ]\n",
      "  },\n",
      "  {\n",
      "   \"cell_type\": \"code\",\n",
      "   \"execution_count\": null,\n",
      "   \"metadata\": {\n",
      "    \"collapsed\": true\n",
      "   },\n",
      "   \"outputs\": [],\n",
      "   \"source\": []\n",
      "  }\n",
      " ],\n",
      " \"metadata\": {\n",
      "  \"kernelspec\": {\n",
      "   \"display_name\": \"Python 2\",\n",
      "   \"language\": \"python\",\n",
      "   \"name\": \"python2\"\n",
      "  },\n",
      "  \"language_info\": {\n",
      "   \"codemirror_mode\": {\n",
      "    \"name\": \"ipython\",\n",
      "    \"version\": 2\n",
      "   },\n",
      "   \"file_extension\": \".py\",\n",
      "   \"mimetype\": \"text/x-python\",\n",
      "   \"name\": \"python\",\n",
      "   \"nbconvert_exporter\": \"python\",\n",
      "   \"pygments_lexer\": \"ipython2\",\n",
      "   \"version\": \"2.7.3\"\n",
      "  }\n",
      " },\n",
      " \"nbformat\": 4,\n",
      " \"nbformat_minor\": 0\n",
      "}\n",
      "\n"
     ]
    }
   ],
   "source": [
    "for fil in files:\n",
    "    #print fil\n",
    "    opfil = open(fil, 'r')\n",
    "    print opfil.read()\n",
    "    opfil.close()"
   ]
  },
  {
   "cell_type": "code",
   "execution_count": 33,
   "metadata": {
    "collapsed": false,
    "scrolled": true
   },
   "outputs": [
    {
     "data": {
      "text/plain": [
       "'{\\n \"cells\": [\\n  {\\n   \"cell_type\": \"markdown\",\\n   \"metadata\": {},\\n   \"source\": [\\n    \"wcm Nikola Tags\\\\n\",\\n    \"\\\\n\",\\n    \"convert ipynb/py doc imports as tags for nikola blog .meta files.\\\\n\",\\n    \"\\\\n\",\\n    \"When user searches for notebook to blog with bbknikola python script also get the tags for the .meta file. Open up the .py file and convert this:\\\\n\",\\n    \"\\\\n\",\\n    \"blogpost.py\\\\n\",\\n    \"\\\\n\",\\n    \"import requests\\\\n\",\\n    \"import os\\\\n\",\\n    \"import re\\\\n\",\\n    \"\\\\n\",\\n    \"Into:\\\\n\",\\n    \"\\\\n\",\\n    \"blogpost.meta\\\\n\",\\n    \"\\\\n\",\\n    \"blogpost\\\\n\",\\n    \"blogpost\\\\n\",\\n    \"2015/02/31 00:00:00\\\\n\",\\n    \"requests, os, re\"\\n   ]\\n  },\\n  {\\n   \"cell_type\": \"markdown\",\\n   \"metadata\": {},\\n   \"source\": [\\n    \"Categorie can be the name of the repo.\\\\n\",\\n    \"Need a repo for Nikola scripts\"\\n   ]\\n  },\\n  {\\n   \"cell_type\": \"code\",\\n   \"execution_count\": 20,\\n   \"metadata\": {\\n    \"collapsed\": false\\n   },\\n   \"outputs\": [],\\n   \"source\": [\\n    \"import os\\\\n\",\\n    \"from walkdir import filtered_walk, dir_paths, all_paths, file_paths\\\\n\"\\n   ]\\n  },\\n  {\\n   \"cell_type\": \"code\",\\n   \"execution_count\": 21,\\n   \"metadata\": {\\n    \"collapsed\": false\\n   },\\n   \"outputs\": [\\n    {\\n     \"name\": \"stdout\",\\n     \"output_type\": \"stream\",\\n     \"text\": [\\n      \"Name of notebook to tag: wcmnikolatags\\\\n\"\\n     ]\\n    }\\n   ],\\n   \"source\": [\\n    \"nbog = raw_input(\\'Name of notebook to tag: \\')\"\\n   ]\\n  },\\n  {\\n   \"cell_type\": \"code\",\\n   \"execution_count\": 22,\\n   \"metadata\": {\\n    \"collapsed\": false\\n   },\\n   \"outputs\": [],\\n   \"source\": [\\n    \"files = file_paths(filtered_walk(\\'/home/wcmckee/github/\\', depth=100, included_files=[nbog + \\'.py\\']))\"\\n   ]\\n  },\\n  {\\n   \"cell_type\": \"code\",\\n   \"execution_count\": 23,\\n   \"metadata\": {\\n    \"collapsed\": false\\n   },\\n   \"outputs\": [\\n    {\\n     \"name\": \"stdout\",\\n     \"output_type\": \"stream\",\\n     \"text\": [\\n      \"<generator object file_paths at 0x97ece14>\\\\n\"\\n     ]\\n    }\\n   ],\\n   \"source\": [\\n    \"print files\"\\n   ]\\n  },\\n  {\\n   \"cell_type\": \"code\",\\n   \"execution_count\": 24,\\n   \"metadata\": {\\n    \"collapsed\": false,\\n    \"scrolled\": true\\n   },\\n   \"outputs\": [\\n    {\\n     \"name\": \"stdout\",\\n     \"output_type\": \"stream\",\\n     \"text\": [\\n      \"\\\\n\",\\n      \"# coding: utf-8\\\\n\",\\n      \"\\\\n\",\\n      \"# wcm Nikola Tags\\\\n\",\\n      \"# \\\\n\",\\n      \"# convert ipynb/py doc imports as tags for nikola blog .meta files.\\\\n\",\\n      \"# \\\\n\",\\n      \"# When user searches for notebook to blog with bbknikola python script also get the tags for the .meta file. Open up the .py file and convert this:\\\\n\",\\n      \"# \\\\n\",\\n      \"# blogpost.py\\\\n\",\\n      \"# \\\\n\",\\n      \"# import requests\\\\n\",\\n      \"# import os\\\\n\",\\n      \"# import re\\\\n\",\\n      \"# \\\\n\",\\n      \"# Into:\\\\n\",\\n      \"# \\\\n\",\\n      \"# blogpost.meta\\\\n\",\\n      \"# \\\\n\",\\n      \"# blogpost\\\\n\",\\n      \"# blogpost\\\\n\",\\n      \"# 2015/02/31 00:00:00\\\\n\",\\n      \"# requests, os, re\\\\n\",\\n      \"\\\\n\",\\n      \"# Categorie can be the name of the repo.\\\\n\",\\n      \"# Need a repo for Nikola scripts\\\\n\",\\n      \"\\\\n\",\\n      \"# In[13]:\\\\n\",\\n      \"\\\\n\",\\n      \"import os\\\\n\",\\n      \"from walkdir import filtered_walk, dir_paths, all_paths, file_paths\\\\n\",\\n      \"\\\\n\",\\n      \"\\\\n\",\\n      \"# In[14]:\\\\n\",\\n      \"\\\\n\",\\n      \"nbog = raw_input(\\'Name of notebook to tag: \\')\\\\n\",\\n      \"\\\\n\",\\n      \"\\\\n\",\\n      \"# In[15]:\\\\n\",\\n      \"\\\\n\",\\n      \"files = file_paths(filtered_walk(\\'/home/wcmckee/github/\\', depth=100, included_files=[nbog + \\'.py\\']))\\\\n\",\\n      \"\\\\n\",\\n      \"\\\\n\",\\n      \"# In[16]:\\\\n\",\\n      \"\\\\n\",\\n      \"print files\\\\n\",\\n      \"\\\\n\",\\n      \"\\\\n\",\\n      \"# In[17]:\\\\n\",\\n      \"\\\\n\",\\n      \"for fil in files:\\\\n\",\\n      \"    #print fil\\\\n\",\\n      \"    opfil = open(fil, \\'r\\')\\\\n\",\\n      \"    print opfil.read()\\\\n\",\\n      \"    opfil.close()\\\\n\",\\n      \"\\\\n\",\\n      \"\\\\n\",\\n      \"# In[19]:\\\\n\",\\n      \"\\\\n\",\\n      \"opfilz = open(fil, \\'r\\')\\\\n\",\\n      \"\\\\n\",\\n      \"opfilz.read()\\\\n\",\\n      \"\\\\n\",\\n      \"\\\\n\",\\n      \"# In[1]:\\\\n\",\\n      \"\\\\n\",\\n      \"#python module that can be used to scan .py files and return\\\\n\",\\n      \"#the imports as a list.\\\\n\",\\n      \"\\\\n\",\\n      \"\\\\n\",\\n      \"# In[ ]:\\\\n\",\\n      \"\\\\n\",\\n      \"\\\\n\",\\n      \"\\\\n\",\\n      \"\\\\n\"\\n     ]\\n    }\\n   ],\\n   \"source\": [\\n    \"for fil in files:\\\\n\",\\n    \"    #print fil\\\\n\",\\n    \"    opfil = open(fil, \\'r\\')\\\\n\",\\n    \"    print opfil.read()\\\\n\",\\n    \"    opfil.close()\"\\n   ]\\n  },\\n  {\\n   \"cell_type\": \"code\",\\n   \"execution_count\": 27,\\n   \"metadata\": {\\n    \"collapsed\": false,\\n    \"scrolled\": true\\n   },\\n   \"outputs\": [\\n    {\\n     \"data\": {\\n      \"text/plain\": [\\n       \"\\\\\"\\\\\\\\n# coding: utf-8\\\\\\\\n\\\\\\\\n# wcm Nikola Tags\\\\\\\\n# \\\\\\\\n# convert ipynb/py doc imports as tags for nikola blog .meta files.\\\\\\\\n# \\\\\\\\n# When user searches for notebook to blog with bbknikola python script also get the tags for the .meta file. Open up the .py file and convert this:\\\\\\\\n# \\\\\\\\n# blogpost.py\\\\\\\\n# \\\\\\\\n# import requests\\\\\\\\n# import os\\\\\\\\n# import re\\\\\\\\n# \\\\\\\\n# Into:\\\\\\\\n# \\\\\\\\n# blogpost.meta\\\\\\\\n# \\\\\\\\n# blogpost\\\\\\\\n# blogpost\\\\\\\\n# 2015/02/31 00:00:00\\\\\\\\n# requests, os, re\\\\\\\\n\\\\\\\\n# Categorie can be the name of the repo.\\\\\\\\n# Need a repo for Nikola scripts\\\\\\\\n\\\\\\\\n# In[13]:\\\\\\\\n\\\\\\\\nimport os\\\\\\\\nfrom walkdir import filtered_walk, dir_paths, all_paths, file_paths\\\\\\\\n\\\\\\\\n\\\\\\\\n# In[14]:\\\\\\\\n\\\\\\\\nnbog = raw_input(\\'Name of notebook to tag: \\')\\\\\\\\n\\\\\\\\n\\\\\\\\n# In[15]:\\\\\\\\n\\\\\\\\nfiles = file_paths(filtered_walk(\\'/home/wcmckee/github/\\', depth=100, included_files=[nbog + \\'.py\\']))\\\\\\\\n\\\\\\\\n\\\\\\\\n# In[16]:\\\\\\\\n\\\\\\\\nprint files\\\\\\\\n\\\\\\\\n\\\\\\\\n# In[17]:\\\\\\\\n\\\\\\\\nfor fil in files:\\\\\\\\n    #print fil\\\\\\\\n    opfil = open(fil, \\'r\\')\\\\\\\\n    print opfil.read()\\\\\\\\n    opfil.close()\\\\\\\\n\\\\\\\\n\\\\\\\\n# In[19]:\\\\\\\\n\\\\\\\\nopfilz = open(fil, \\'r\\')\\\\\\\\n\\\\\\\\nopfilz.read()\\\\\\\\n\\\\\\\\n\\\\\\\\n# In[1]:\\\\\\\\n\\\\\\\\n#python module that can be used to scan .py files and return\\\\\\\\n#the imports as a list.\\\\\\\\n\\\\\\\\n\\\\\\\\n# In[ ]:\\\\\\\\n\\\\\\\\n\\\\\\\\n\\\\\\\\n\\\\\"\"\\n      ]\\n     },\\n     \"execution_count\": 27,\\n     \"metadata\": {},\\n     \"output_type\": \"execute_result\"\\n    }\\n   ],\\n   \"source\": [\\n    \"opfilz = open(fil, \\'r\\')\\\\n\",\\n    \"\\\\n\",\\n    \"opfilz.read()\"\\n   ]\\n  },\\n  {\\n   \"cell_type\": \"code\",\\n   \"execution_count\": 26,\\n   \"metadata\": {\\n    \"collapsed\": true\\n   },\\n   \"outputs\": [],\\n   \"source\": [\\n    \"#python module that can be used to scan .py files and return\\\\n\",\\n    \"#the imports as a list.\"\\n   ]\\n  },\\n  {\\n   \"cell_type\": \"code\",\\n   \"execution_count\": null,\\n   \"metadata\": {\\n    \"collapsed\": true\\n   },\\n   \"outputs\": [],\\n   \"source\": []\\n  }\\n ],\\n \"metadata\": {\\n  \"kernelspec\": {\\n   \"display_name\": \"Python 2\",\\n   \"language\": \"python\",\\n   \"name\": \"python2\"\\n  },\\n  \"language_info\": {\\n   \"codemirror_mode\": {\\n    \"name\": \"ipython\",\\n    \"version\": 2\\n   },\\n   \"file_extension\": \".py\",\\n   \"mimetype\": \"text/x-python\",\\n   \"name\": \"python\",\\n   \"nbconvert_exporter\": \"python\",\\n   \"pygments_lexer\": \"ipython2\",\\n   \"version\": \"2.7.3\"\\n  }\\n },\\n \"nbformat\": 4,\\n \"nbformat_minor\": 0\\n}\\n'"
      ]
     },
     "execution_count": 33,
     "metadata": {},
     "output_type": "execute_result"
    }
   ],
   "source": [
    "opfilz = open(fil, 'r')\n",
    "\n",
    "opfilz.read()"
   ]
  },
  {
   "cell_type": "code",
   "execution_count": 34,
   "metadata": {
    "collapsed": true
   },
   "outputs": [],
   "source": [
    "#python module that can be used to scan .py files and return\n",
    "#the imports as a list."
   ]
  },
  {
   "cell_type": "code",
   "execution_count": null,
   "metadata": {
    "collapsed": true
   },
   "outputs": [],
   "source": []
  }
 ],
 "metadata": {
  "kernelspec": {
   "display_name": "Python 2",
   "language": "python",
   "name": "python2"
  },
  "language_info": {
   "codemirror_mode": {
    "name": "ipython",
    "version": 2
   },
   "file_extension": ".py",
   "mimetype": "text/x-python",
   "name": "python",
   "nbconvert_exporter": "python",
   "pygments_lexer": "ipython2",
   "version": "2.7.3"
  }
 },
 "nbformat": 4,
 "nbformat_minor": 0
}
