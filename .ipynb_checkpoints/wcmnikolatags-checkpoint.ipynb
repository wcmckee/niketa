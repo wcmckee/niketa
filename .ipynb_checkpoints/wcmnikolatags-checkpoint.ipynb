{
 "cells": [
  {
   "cell_type": "markdown",
   "metadata": {},
   "source": [
    "wcm Nikola Tags\n",
    "\n",
    "convert ipynb/py doc imports as tags for nikola blog .meta files.\n",
    "\n",
    "When user searches for notebook to blog with bbknikola python script also get the tags for the .meta file. Open up the .py file and convert this:\n",
    "\n",
    "blogpost.py\n",
    "\n",
    "import requests\n",
    "import os\n",
    "import re\n",
    "\n",
    "Into:\n",
    "\n",
    "blogpost.meta\n",
    "\n",
    "blogpost\n",
    "blogpost\n",
    "2015/02/31 00:00:00\n",
    "requests, os, re"
   ]
  },
  {
   "cell_type": "markdown",
   "metadata": {},
   "source": [
    "Categorie can be the name of the repo.\n",
    "Need a repo for Nikola scripts"
   ]
  },
  {
   "cell_type": "code",
   "execution_count": 26,
   "metadata": {
    "collapsed": false
   },
   "outputs": [],
   "source": [
    "import modulefinder\n",
    "import runpy\n",
    "import os\n",
    "from walkdir import filtered_walk, dir_paths, all_paths, file_paths\n"
   ]
  },
  {
   "cell_type": "code",
   "execution_count": 22,
   "metadata": {
    "collapsed": false
   },
   "outputs": [],
   "source": [
    "mwcm = modulefinder.ModuleFinder()"
   ]
  },
  {
   "cell_type": "code",
   "execution_count": 23,
   "metadata": {
    "collapsed": false
   },
   "outputs": [
    {
     "data": {
      "text/plain": [
       "[]"
      ]
     },
     "execution_count": 23,
     "metadata": {},
     "output_type": "execute_result"
    }
   ],
   "source": [
    "mwcm.any_missing()"
   ]
  },
  {
   "cell_type": "code",
   "execution_count": 24,
   "metadata": {
    "collapsed": false
   },
   "outputs": [],
   "source": [
    "mwcm.run_script('/home/wcmckee/github/niketa/rgdsnatch.py')"
   ]
  },
  {
   "cell_type": "code",
   "execution_count": 35,
   "metadata": {
    "collapsed": false
   },
   "outputs": [
    {
     "data": {
      "text/plain": [
       "['',\n",
       " '/home/wcmckee/ipython',\n",
       " '/usr/lib/python2.7',\n",
       " '/usr/lib/python2.7/plat-arm-linux-gnueabihf',\n",
       " '/usr/lib/python2.7/lib-tk',\n",
       " '/usr/lib/python2.7/lib-old',\n",
       " '/usr/lib/python2.7/lib-dynload',\n",
       " '/home/wcmckee/.local/lib/python2.7/site-packages',\n",
       " '/usr/local/lib/python2.7/dist-packages',\n",
       " '/usr/lib/python2.7/dist-packages',\n",
       " '/usr/lib/python2.7/dist-packages/PILcompat',\n",
       " '/usr/lib/python2.7/dist-packages/gtk-2.0',\n",
       " '/usr/lib/pymodules/python2.7',\n",
       " '/home/wcmckee/ipython/IPython/extensions']"
      ]
     },
     "execution_count": 35,
     "metadata": {},
     "output_type": "execute_result"
    }
   ],
   "source": [
    "mwcm.path"
   ]
  },
  {
   "cell_type": "code",
   "execution_count": 39,
   "metadata": {
    "collapsed": false
   },
   "outputs": [
    {
     "data": {
      "text/plain": [
       "<bound method ModuleFinder.scan_code of <modulefinder.ModuleFinder instance at 0xb2304c38>>"
      ]
     },
     "execution_count": 39,
     "metadata": {},
     "output_type": "execute_result"
    }
   ],
   "source": [
    "mwcm.scan_code"
   ]
  },
  {
   "cell_type": "code",
   "execution_count": 10,
   "metadata": {
    "collapsed": true
   },
   "outputs": [],
   "source": [
    "from splinter import Browser\n",
    "browser = Browser()"
   ]
  },
  {
   "cell_type": "code",
   "execution_count": 11,
   "metadata": {
    "collapsed": true
   },
   "outputs": [],
   "source": [
    "browser.visit('http://google.com')"
   ]
  },
  {
   "cell_type": "code",
   "execution_count": 12,
   "metadata": {
    "collapsed": false
   },
   "outputs": [
    {
     "data": {
      "text/plain": [
       "u'Google'"
      ]
     },
     "execution_count": 12,
     "metadata": {},
     "output_type": "execute_result"
    }
   ],
   "source": [
    "browser.title"
   ]
  },
  {
   "cell_type": "code",
   "execution_count": 9,
   "metadata": {
    "collapsed": false
   },
   "outputs": [
    {
     "data": {
      "text/plain": [
       "'http://google.com'"
      ]
     },
     "execution_count": 9,
     "metadata": {},
     "output_type": "execute_result"
    }
   ],
   "source": [
    "browser.request_url"
   ]
  },
  {
   "cell_type": "code",
   "execution_count": 15,
   "metadata": {
    "collapsed": false
   },
   "outputs": [
    {
     "ename": "error",
     "evalue": "[Errno 111] Connection refused",
     "output_type": "error",
     "traceback": [
      "\u001b[1;31m---------------------------------------------------------------------------\u001b[0m",
      "\u001b[1;31merror\u001b[0m                                     Traceback (most recent call last)",
      "\u001b[1;32m<ipython-input-15-70fb754855d2>\u001b[0m in \u001b[0;36m<module>\u001b[1;34m()\u001b[0m\n\u001b[1;32m----> 1\u001b[1;33m \u001b[0mbrowser\u001b[0m\u001b[1;33m.\u001b[0m\u001b[0mclick_link_by_href\u001b[0m\u001b[1;33m(\u001b[0m\u001b[1;34m'http://www.google.co.nz/preferences'\u001b[0m\u001b[1;33m)\u001b[0m\u001b[1;33m\u001b[0m\u001b[0m\n\u001b[0m",
      "\u001b[1;32m/usr/local/lib/python2.7/dist-packages/splinter/driver/__init__.pyc\u001b[0m in \u001b[0;36mclick_link_by_href\u001b[1;34m(self, href)\u001b[0m\n\u001b[0;32m    300\u001b[0m         \u001b[0mClicks\u001b[0m \u001b[1;32min\u001b[0m \u001b[0ma\u001b[0m \u001b[0mlink\u001b[0m \u001b[0mby\u001b[0m \u001b[0mits\u001b[0m \u001b[1;33m`\u001b[0m\u001b[1;33m`\u001b[0m\u001b[0mhref\u001b[0m\u001b[1;33m`\u001b[0m\u001b[1;33m`\u001b[0m \u001b[0mattribute\u001b[0m\u001b[1;33m.\u001b[0m\u001b[1;33m\u001b[0m\u001b[0m\n\u001b[0;32m    301\u001b[0m         \"\"\"\n\u001b[1;32m--> 302\u001b[1;33m         \u001b[1;32mreturn\u001b[0m \u001b[0mself\u001b[0m\u001b[1;33m.\u001b[0m\u001b[0mfind_link_by_href\u001b[0m\u001b[1;33m(\u001b[0m\u001b[0mhref\u001b[0m\u001b[1;33m)\u001b[0m\u001b[1;33m.\u001b[0m\u001b[0mfirst\u001b[0m\u001b[1;33m.\u001b[0m\u001b[0mclick\u001b[0m\u001b[1;33m(\u001b[0m\u001b[1;33m)\u001b[0m\u001b[1;33m\u001b[0m\u001b[0m\n\u001b[0m\u001b[0;32m    303\u001b[0m \u001b[1;33m\u001b[0m\u001b[0m\n\u001b[0;32m    304\u001b[0m     \u001b[1;32mdef\u001b[0m \u001b[0mclick_link_by_partial_href\u001b[0m\u001b[1;33m(\u001b[0m\u001b[0mself\u001b[0m\u001b[1;33m,\u001b[0m \u001b[0mpartial_href\u001b[0m\u001b[1;33m)\u001b[0m\u001b[1;33m:\u001b[0m\u001b[1;33m\u001b[0m\u001b[0m\n",
      "\u001b[1;32m/usr/local/lib/python2.7/dist-packages/splinter/driver/webdriver/__init__.pyc\u001b[0m in \u001b[0;36mfind_link_by_href\u001b[1;34m(self, href)\u001b[0m\n\u001b[0;32m    327\u001b[0m \u001b[1;33m\u001b[0m\u001b[0m\n\u001b[0;32m    328\u001b[0m     \u001b[1;32mdef\u001b[0m \u001b[0mfind_link_by_href\u001b[0m\u001b[1;33m(\u001b[0m\u001b[0mself\u001b[0m\u001b[1;33m,\u001b[0m \u001b[0mhref\u001b[0m\u001b[1;33m)\u001b[0m\u001b[1;33m:\u001b[0m\u001b[1;33m\u001b[0m\u001b[0m\n\u001b[1;32m--> 329\u001b[1;33m         \u001b[1;32mreturn\u001b[0m \u001b[0mself\u001b[0m\u001b[1;33m.\u001b[0m\u001b[0mfind_by_xpath\u001b[0m\u001b[1;33m(\u001b[0m\u001b[1;34m'//a[@href=\"%s\"]'\u001b[0m \u001b[1;33m%\u001b[0m \u001b[0mhref\u001b[0m\u001b[1;33m,\u001b[0m \u001b[0moriginal_find\u001b[0m\u001b[1;33m=\u001b[0m\u001b[1;34m\"link by href\"\u001b[0m\u001b[1;33m,\u001b[0m \u001b[0moriginal_query\u001b[0m\u001b[1;33m=\u001b[0m\u001b[0mhref\u001b[0m\u001b[1;33m)\u001b[0m\u001b[1;33m\u001b[0m\u001b[0m\n\u001b[0m\u001b[0;32m    330\u001b[0m \u001b[1;33m\u001b[0m\u001b[0m\n\u001b[0;32m    331\u001b[0m     \u001b[1;32mdef\u001b[0m \u001b[0mfind_link_by_partial_href\u001b[0m\u001b[1;33m(\u001b[0m\u001b[0mself\u001b[0m\u001b[1;33m,\u001b[0m \u001b[0mpartial_href\u001b[0m\u001b[1;33m)\u001b[0m\u001b[1;33m:\u001b[0m\u001b[1;33m\u001b[0m\u001b[0m\n",
      "\u001b[1;32m/usr/local/lib/python2.7/dist-packages/splinter/driver/webdriver/__init__.pyc\u001b[0m in \u001b[0;36mfind_by_xpath\u001b[1;34m(self, xpath, original_find, original_query)\u001b[0m\n\u001b[0;32m    364\u001b[0m         \u001b[0moriginal_find\u001b[0m \u001b[1;33m=\u001b[0m \u001b[0moriginal_find\u001b[0m \u001b[1;32mor\u001b[0m \u001b[1;34m\"xpath\"\u001b[0m\u001b[1;33m\u001b[0m\u001b[0m\n\u001b[0;32m    365\u001b[0m         \u001b[0moriginal_query\u001b[0m \u001b[1;33m=\u001b[0m \u001b[0moriginal_query\u001b[0m \u001b[1;32mor\u001b[0m \u001b[0mxpath\u001b[0m\u001b[1;33m\u001b[0m\u001b[0m\n\u001b[1;32m--> 366\u001b[1;33m         \u001b[1;32mreturn\u001b[0m \u001b[0mself\u001b[0m\u001b[1;33m.\u001b[0m\u001b[0mfind_by\u001b[0m\u001b[1;33m(\u001b[0m\u001b[0mself\u001b[0m\u001b[1;33m.\u001b[0m\u001b[0mdriver\u001b[0m\u001b[1;33m.\u001b[0m\u001b[0mfind_elements_by_xpath\u001b[0m\u001b[1;33m,\u001b[0m \u001b[0mxpath\u001b[0m\u001b[1;33m,\u001b[0m \u001b[0moriginal_find\u001b[0m\u001b[1;33m=\u001b[0m\u001b[0moriginal_find\u001b[0m\u001b[1;33m,\u001b[0m \u001b[0moriginal_query\u001b[0m\u001b[1;33m=\u001b[0m\u001b[0moriginal_query\u001b[0m\u001b[1;33m)\u001b[0m\u001b[1;33m\u001b[0m\u001b[0m\n\u001b[0m\u001b[0;32m    367\u001b[0m \u001b[1;33m\u001b[0m\u001b[0m\n\u001b[0;32m    368\u001b[0m     \u001b[1;32mdef\u001b[0m \u001b[0mfind_by_name\u001b[0m\u001b[1;33m(\u001b[0m\u001b[0mself\u001b[0m\u001b[1;33m,\u001b[0m \u001b[0mname\u001b[0m\u001b[1;33m)\u001b[0m\u001b[1;33m:\u001b[0m\u001b[1;33m\u001b[0m\u001b[0m\n",
      "\u001b[1;32m/usr/local/lib/python2.7/dist-packages/splinter/driver/webdriver/__init__.pyc\u001b[0m in \u001b[0;36mfind_by\u001b[1;34m(self, finder, selector, original_find, original_query)\u001b[0m\n\u001b[0;32m    348\u001b[0m         \u001b[1;32mwhile\u001b[0m \u001b[0mtime\u001b[0m\u001b[1;33m.\u001b[0m\u001b[0mtime\u001b[0m\u001b[1;33m(\u001b[0m\u001b[1;33m)\u001b[0m \u001b[1;33m<\u001b[0m \u001b[0mend_time\u001b[0m\u001b[1;33m:\u001b[0m\u001b[1;33m\u001b[0m\u001b[0m\n\u001b[0;32m    349\u001b[0m             \u001b[1;32mtry\u001b[0m\u001b[1;33m:\u001b[0m\u001b[1;33m\u001b[0m\u001b[0m\n\u001b[1;32m--> 350\u001b[1;33m                 \u001b[0melements\u001b[0m \u001b[1;33m=\u001b[0m \u001b[0mfinder\u001b[0m\u001b[1;33m(\u001b[0m\u001b[0mselector\u001b[0m\u001b[1;33m)\u001b[0m\u001b[1;33m\u001b[0m\u001b[0m\n\u001b[0m\u001b[0;32m    351\u001b[0m                 \u001b[1;32mif\u001b[0m \u001b[1;32mnot\u001b[0m \u001b[0misinstance\u001b[0m\u001b[1;33m(\u001b[0m\u001b[0melements\u001b[0m\u001b[1;33m,\u001b[0m \u001b[0mlist\u001b[0m\u001b[1;33m)\u001b[0m\u001b[1;33m:\u001b[0m\u001b[1;33m\u001b[0m\u001b[0m\n\u001b[0;32m    352\u001b[0m                     \u001b[0melements\u001b[0m \u001b[1;33m=\u001b[0m \u001b[1;33m[\u001b[0m\u001b[0melements\u001b[0m\u001b[1;33m]\u001b[0m\u001b[1;33m\u001b[0m\u001b[0m\n",
      "\u001b[1;32m/usr/local/lib/python2.7/dist-packages/selenium/webdriver/remote/webdriver.pyc\u001b[0m in \u001b[0;36mfind_elements_by_xpath\u001b[1;34m(self, xpath)\u001b[0m\n\u001b[0;32m    240\u001b[0m             \u001b[0mdriver\u001b[0m\u001b[1;33m.\u001b[0m\u001b[0mfind_elements_by_xpath\u001b[0m\u001b[1;33m(\u001b[0m\u001b[1;34m\"//div[contains(@class, 'foo')]\"\u001b[0m\u001b[1;33m)\u001b[0m\u001b[1;33m\u001b[0m\u001b[0m\n\u001b[0;32m    241\u001b[0m         \"\"\"\n\u001b[1;32m--> 242\u001b[1;33m         \u001b[1;32mreturn\u001b[0m \u001b[0mself\u001b[0m\u001b[1;33m.\u001b[0m\u001b[0mfind_elements\u001b[0m\u001b[1;33m(\u001b[0m\u001b[0mby\u001b[0m\u001b[1;33m=\u001b[0m\u001b[0mBy\u001b[0m\u001b[1;33m.\u001b[0m\u001b[0mXPATH\u001b[0m\u001b[1;33m,\u001b[0m \u001b[0mvalue\u001b[0m\u001b[1;33m=\u001b[0m\u001b[0mxpath\u001b[0m\u001b[1;33m)\u001b[0m\u001b[1;33m\u001b[0m\u001b[0m\n\u001b[0m\u001b[0;32m    243\u001b[0m \u001b[1;33m\u001b[0m\u001b[0m\n\u001b[0;32m    244\u001b[0m     \u001b[1;32mdef\u001b[0m \u001b[0mfind_element_by_link_text\u001b[0m\u001b[1;33m(\u001b[0m\u001b[0mself\u001b[0m\u001b[1;33m,\u001b[0m \u001b[0mlink_text\u001b[0m\u001b[1;33m)\u001b[0m\u001b[1;33m:\u001b[0m\u001b[1;33m\u001b[0m\u001b[0m\n",
      "\u001b[1;32m/usr/local/lib/python2.7/dist-packages/selenium/webdriver/remote/webdriver.pyc\u001b[0m in \u001b[0;36mfind_elements\u001b[1;34m(self, by, value)\u001b[0m\n\u001b[0;32m    675\u001b[0m \u001b[1;33m\u001b[0m\u001b[0m\n\u001b[0;32m    676\u001b[0m         return self.execute(Command.FIND_ELEMENTS,\n\u001b[1;32m--> 677\u001b[1;33m                              {'using': by, 'value': value})['value']\n\u001b[0m\u001b[0;32m    678\u001b[0m     \u001b[1;33m@\u001b[0m\u001b[0mproperty\u001b[0m\u001b[1;33m\u001b[0m\u001b[0m\n\u001b[0;32m    679\u001b[0m     \u001b[1;32mdef\u001b[0m \u001b[0mdesired_capabilities\u001b[0m\u001b[1;33m(\u001b[0m\u001b[0mself\u001b[0m\u001b[1;33m)\u001b[0m\u001b[1;33m:\u001b[0m\u001b[1;33m\u001b[0m\u001b[0m\n",
      "\u001b[1;32m/usr/local/lib/python2.7/dist-packages/selenium/webdriver/remote/webdriver.pyc\u001b[0m in \u001b[0;36mexecute\u001b[1;34m(self, driver_command, params)\u001b[0m\n\u001b[0;32m    169\u001b[0m \u001b[1;33m\u001b[0m\u001b[0m\n\u001b[0;32m    170\u001b[0m         \u001b[0mparams\u001b[0m \u001b[1;33m=\u001b[0m \u001b[0mself\u001b[0m\u001b[1;33m.\u001b[0m\u001b[0m_wrap_value\u001b[0m\u001b[1;33m(\u001b[0m\u001b[0mparams\u001b[0m\u001b[1;33m)\u001b[0m\u001b[1;33m\u001b[0m\u001b[0m\n\u001b[1;32m--> 171\u001b[1;33m         \u001b[0mresponse\u001b[0m \u001b[1;33m=\u001b[0m \u001b[0mself\u001b[0m\u001b[1;33m.\u001b[0m\u001b[0mcommand_executor\u001b[0m\u001b[1;33m.\u001b[0m\u001b[0mexecute\u001b[0m\u001b[1;33m(\u001b[0m\u001b[0mdriver_command\u001b[0m\u001b[1;33m,\u001b[0m \u001b[0mparams\u001b[0m\u001b[1;33m)\u001b[0m\u001b[1;33m\u001b[0m\u001b[0m\n\u001b[0m\u001b[0;32m    172\u001b[0m         \u001b[1;32mif\u001b[0m \u001b[0mresponse\u001b[0m\u001b[1;33m:\u001b[0m\u001b[1;33m\u001b[0m\u001b[0m\n\u001b[0;32m    173\u001b[0m             \u001b[0mself\u001b[0m\u001b[1;33m.\u001b[0m\u001b[0merror_handler\u001b[0m\u001b[1;33m.\u001b[0m\u001b[0mcheck_response\u001b[0m\u001b[1;33m(\u001b[0m\u001b[0mresponse\u001b[0m\u001b[1;33m)\u001b[0m\u001b[1;33m\u001b[0m\u001b[0m\n",
      "\u001b[1;32m/usr/local/lib/python2.7/dist-packages/selenium/webdriver/remote/remote_connection.pyc\u001b[0m in \u001b[0;36mexecute\u001b[1;34m(self, command, params)\u001b[0m\n\u001b[0;32m    347\u001b[0m         \u001b[0mpath\u001b[0m \u001b[1;33m=\u001b[0m \u001b[0mstring\u001b[0m\u001b[1;33m.\u001b[0m\u001b[0mTemplate\u001b[0m\u001b[1;33m(\u001b[0m\u001b[0mcommand_info\u001b[0m\u001b[1;33m[\u001b[0m\u001b[1;36m1\u001b[0m\u001b[1;33m]\u001b[0m\u001b[1;33m)\u001b[0m\u001b[1;33m.\u001b[0m\u001b[0msubstitute\u001b[0m\u001b[1;33m(\u001b[0m\u001b[0mparams\u001b[0m\u001b[1;33m)\u001b[0m\u001b[1;33m\u001b[0m\u001b[0m\n\u001b[0;32m    348\u001b[0m         \u001b[0murl\u001b[0m \u001b[1;33m=\u001b[0m \u001b[1;34m'%s%s'\u001b[0m \u001b[1;33m%\u001b[0m \u001b[1;33m(\u001b[0m\u001b[0mself\u001b[0m\u001b[1;33m.\u001b[0m\u001b[0m_url\u001b[0m\u001b[1;33m,\u001b[0m \u001b[0mpath\u001b[0m\u001b[1;33m)\u001b[0m\u001b[1;33m\u001b[0m\u001b[0m\n\u001b[1;32m--> 349\u001b[1;33m         \u001b[1;32mreturn\u001b[0m \u001b[0mself\u001b[0m\u001b[1;33m.\u001b[0m\u001b[0m_request\u001b[0m\u001b[1;33m(\u001b[0m\u001b[0mcommand_info\u001b[0m\u001b[1;33m[\u001b[0m\u001b[1;36m0\u001b[0m\u001b[1;33m]\u001b[0m\u001b[1;33m,\u001b[0m \u001b[0murl\u001b[0m\u001b[1;33m,\u001b[0m \u001b[0mbody\u001b[0m\u001b[1;33m=\u001b[0m\u001b[0mdata\u001b[0m\u001b[1;33m)\u001b[0m\u001b[1;33m\u001b[0m\u001b[0m\n\u001b[0m\u001b[0;32m    350\u001b[0m \u001b[1;33m\u001b[0m\u001b[0m\n\u001b[0;32m    351\u001b[0m     \u001b[1;32mdef\u001b[0m \u001b[0m_request\u001b[0m\u001b[1;33m(\u001b[0m\u001b[0mself\u001b[0m\u001b[1;33m,\u001b[0m \u001b[0mmethod\u001b[0m\u001b[1;33m,\u001b[0m \u001b[0murl\u001b[0m\u001b[1;33m,\u001b[0m \u001b[0mbody\u001b[0m\u001b[1;33m=\u001b[0m\u001b[0mNone\u001b[0m\u001b[1;33m)\u001b[0m\u001b[1;33m:\u001b[0m\u001b[1;33m\u001b[0m\u001b[0m\n",
      "\u001b[1;32m/usr/local/lib/python2.7/dist-packages/selenium/webdriver/remote/remote_connection.pyc\u001b[0m in \u001b[0;36m_request\u001b[1;34m(self, method, url, body)\u001b[0m\n\u001b[0;32m    377\u001b[0m                 \u001b[0mbody\u001b[0m \u001b[1;33m=\u001b[0m \u001b[0mNone\u001b[0m\u001b[1;33m\u001b[0m\u001b[0m\n\u001b[0;32m    378\u001b[0m             \u001b[1;32mtry\u001b[0m\u001b[1;33m:\u001b[0m\u001b[1;33m\u001b[0m\u001b[0m\n\u001b[1;32m--> 379\u001b[1;33m                 \u001b[0mself\u001b[0m\u001b[1;33m.\u001b[0m\u001b[0m_conn\u001b[0m\u001b[1;33m.\u001b[0m\u001b[0mrequest\u001b[0m\u001b[1;33m(\u001b[0m\u001b[0mmethod\u001b[0m\u001b[1;33m,\u001b[0m \u001b[0mparsed_url\u001b[0m\u001b[1;33m.\u001b[0m\u001b[0mpath\u001b[0m\u001b[1;33m,\u001b[0m \u001b[0mbody\u001b[0m\u001b[1;33m,\u001b[0m \u001b[0mheaders\u001b[0m\u001b[1;33m)\u001b[0m\u001b[1;33m\u001b[0m\u001b[0m\n\u001b[0m\u001b[0;32m    380\u001b[0m                 \u001b[0mresp\u001b[0m \u001b[1;33m=\u001b[0m \u001b[0mself\u001b[0m\u001b[1;33m.\u001b[0m\u001b[0m_conn\u001b[0m\u001b[1;33m.\u001b[0m\u001b[0mgetresponse\u001b[0m\u001b[1;33m(\u001b[0m\u001b[1;33m)\u001b[0m\u001b[1;33m\u001b[0m\u001b[0m\n\u001b[0;32m    381\u001b[0m             \u001b[1;32mexcept\u001b[0m \u001b[0mhttplib\u001b[0m\u001b[1;33m.\u001b[0m\u001b[0mHTTPException\u001b[0m\u001b[1;33m:\u001b[0m\u001b[1;33m\u001b[0m\u001b[0m\n",
      "\u001b[1;32m/usr/lib/python2.7/httplib.pyc\u001b[0m in \u001b[0;36mrequest\u001b[1;34m(self, method, url, body, headers)\u001b[0m\n\u001b[0;32m    999\u001b[0m     \u001b[1;32mdef\u001b[0m \u001b[0mrequest\u001b[0m\u001b[1;33m(\u001b[0m\u001b[0mself\u001b[0m\u001b[1;33m,\u001b[0m \u001b[0mmethod\u001b[0m\u001b[1;33m,\u001b[0m \u001b[0murl\u001b[0m\u001b[1;33m,\u001b[0m \u001b[0mbody\u001b[0m\u001b[1;33m=\u001b[0m\u001b[0mNone\u001b[0m\u001b[1;33m,\u001b[0m \u001b[0mheaders\u001b[0m\u001b[1;33m=\u001b[0m\u001b[1;33m{\u001b[0m\u001b[1;33m}\u001b[0m\u001b[1;33m)\u001b[0m\u001b[1;33m:\u001b[0m\u001b[1;33m\u001b[0m\u001b[0m\n\u001b[0;32m   1000\u001b[0m         \u001b[1;34m\"\"\"Send a complete request to the server.\"\"\"\u001b[0m\u001b[1;33m\u001b[0m\u001b[0m\n\u001b[1;32m-> 1001\u001b[1;33m         \u001b[0mself\u001b[0m\u001b[1;33m.\u001b[0m\u001b[0m_send_request\u001b[0m\u001b[1;33m(\u001b[0m\u001b[0mmethod\u001b[0m\u001b[1;33m,\u001b[0m \u001b[0murl\u001b[0m\u001b[1;33m,\u001b[0m \u001b[0mbody\u001b[0m\u001b[1;33m,\u001b[0m \u001b[0mheaders\u001b[0m\u001b[1;33m)\u001b[0m\u001b[1;33m\u001b[0m\u001b[0m\n\u001b[0m\u001b[0;32m   1002\u001b[0m \u001b[1;33m\u001b[0m\u001b[0m\n\u001b[0;32m   1003\u001b[0m     \u001b[1;32mdef\u001b[0m \u001b[0m_set_content_length\u001b[0m\u001b[1;33m(\u001b[0m\u001b[0mself\u001b[0m\u001b[1;33m,\u001b[0m \u001b[0mbody\u001b[0m\u001b[1;33m)\u001b[0m\u001b[1;33m:\u001b[0m\u001b[1;33m\u001b[0m\u001b[0m\n",
      "\u001b[1;32m/usr/lib/python2.7/httplib.pyc\u001b[0m in \u001b[0;36m_send_request\u001b[1;34m(self, method, url, body, headers)\u001b[0m\n\u001b[0;32m   1033\u001b[0m         \u001b[1;32mfor\u001b[0m \u001b[0mhdr\u001b[0m\u001b[1;33m,\u001b[0m \u001b[0mvalue\u001b[0m \u001b[1;32min\u001b[0m \u001b[0mheaders\u001b[0m\u001b[1;33m.\u001b[0m\u001b[0miteritems\u001b[0m\u001b[1;33m(\u001b[0m\u001b[1;33m)\u001b[0m\u001b[1;33m:\u001b[0m\u001b[1;33m\u001b[0m\u001b[0m\n\u001b[0;32m   1034\u001b[0m             \u001b[0mself\u001b[0m\u001b[1;33m.\u001b[0m\u001b[0mputheader\u001b[0m\u001b[1;33m(\u001b[0m\u001b[0mhdr\u001b[0m\u001b[1;33m,\u001b[0m \u001b[0mvalue\u001b[0m\u001b[1;33m)\u001b[0m\u001b[1;33m\u001b[0m\u001b[0m\n\u001b[1;32m-> 1035\u001b[1;33m         \u001b[0mself\u001b[0m\u001b[1;33m.\u001b[0m\u001b[0mendheaders\u001b[0m\u001b[1;33m(\u001b[0m\u001b[0mbody\u001b[0m\u001b[1;33m)\u001b[0m\u001b[1;33m\u001b[0m\u001b[0m\n\u001b[0m\u001b[0;32m   1036\u001b[0m \u001b[1;33m\u001b[0m\u001b[0m\n\u001b[0;32m   1037\u001b[0m     \u001b[1;32mdef\u001b[0m \u001b[0mgetresponse\u001b[0m\u001b[1;33m(\u001b[0m\u001b[0mself\u001b[0m\u001b[1;33m,\u001b[0m \u001b[0mbuffering\u001b[0m\u001b[1;33m=\u001b[0m\u001b[0mFalse\u001b[0m\u001b[1;33m)\u001b[0m\u001b[1;33m:\u001b[0m\u001b[1;33m\u001b[0m\u001b[0m\n",
      "\u001b[1;32m/usr/lib/python2.7/httplib.pyc\u001b[0m in \u001b[0;36mendheaders\u001b[1;34m(self, message_body)\u001b[0m\n\u001b[0;32m    995\u001b[0m         \u001b[1;32melse\u001b[0m\u001b[1;33m:\u001b[0m\u001b[1;33m\u001b[0m\u001b[0m\n\u001b[0;32m    996\u001b[0m             \u001b[1;32mraise\u001b[0m \u001b[0mCannotSendHeader\u001b[0m\u001b[1;33m(\u001b[0m\u001b[1;33m)\u001b[0m\u001b[1;33m\u001b[0m\u001b[0m\n\u001b[1;32m--> 997\u001b[1;33m         \u001b[0mself\u001b[0m\u001b[1;33m.\u001b[0m\u001b[0m_send_output\u001b[0m\u001b[1;33m(\u001b[0m\u001b[0mmessage_body\u001b[0m\u001b[1;33m)\u001b[0m\u001b[1;33m\u001b[0m\u001b[0m\n\u001b[0m\u001b[0;32m    998\u001b[0m \u001b[1;33m\u001b[0m\u001b[0m\n\u001b[0;32m    999\u001b[0m     \u001b[1;32mdef\u001b[0m \u001b[0mrequest\u001b[0m\u001b[1;33m(\u001b[0m\u001b[0mself\u001b[0m\u001b[1;33m,\u001b[0m \u001b[0mmethod\u001b[0m\u001b[1;33m,\u001b[0m \u001b[0murl\u001b[0m\u001b[1;33m,\u001b[0m \u001b[0mbody\u001b[0m\u001b[1;33m=\u001b[0m\u001b[0mNone\u001b[0m\u001b[1;33m,\u001b[0m \u001b[0mheaders\u001b[0m\u001b[1;33m=\u001b[0m\u001b[1;33m{\u001b[0m\u001b[1;33m}\u001b[0m\u001b[1;33m)\u001b[0m\u001b[1;33m:\u001b[0m\u001b[1;33m\u001b[0m\u001b[0m\n",
      "\u001b[1;32m/usr/lib/python2.7/httplib.pyc\u001b[0m in \u001b[0;36m_send_output\u001b[1;34m(self, message_body)\u001b[0m\n\u001b[0;32m    848\u001b[0m             \u001b[0mmsg\u001b[0m \u001b[1;33m+=\u001b[0m \u001b[0mmessage_body\u001b[0m\u001b[1;33m\u001b[0m\u001b[0m\n\u001b[0;32m    849\u001b[0m             \u001b[0mmessage_body\u001b[0m \u001b[1;33m=\u001b[0m \u001b[0mNone\u001b[0m\u001b[1;33m\u001b[0m\u001b[0m\n\u001b[1;32m--> 850\u001b[1;33m         \u001b[0mself\u001b[0m\u001b[1;33m.\u001b[0m\u001b[0msend\u001b[0m\u001b[1;33m(\u001b[0m\u001b[0mmsg\u001b[0m\u001b[1;33m)\u001b[0m\u001b[1;33m\u001b[0m\u001b[0m\n\u001b[0m\u001b[0;32m    851\u001b[0m         \u001b[1;32mif\u001b[0m \u001b[0mmessage_body\u001b[0m \u001b[1;32mis\u001b[0m \u001b[1;32mnot\u001b[0m \u001b[0mNone\u001b[0m\u001b[1;33m:\u001b[0m\u001b[1;33m\u001b[0m\u001b[0m\n\u001b[0;32m    852\u001b[0m             \u001b[1;31m#message_body was not a string (i.e. it is a file) and\u001b[0m\u001b[1;33m\u001b[0m\u001b[1;33m\u001b[0m\u001b[0m\n",
      "\u001b[1;32m/usr/lib/python2.7/httplib.pyc\u001b[0m in \u001b[0;36msend\u001b[1;34m(self, data)\u001b[0m\n\u001b[0;32m    810\u001b[0m         \u001b[1;32mif\u001b[0m \u001b[0mself\u001b[0m\u001b[1;33m.\u001b[0m\u001b[0msock\u001b[0m \u001b[1;32mis\u001b[0m \u001b[0mNone\u001b[0m\u001b[1;33m:\u001b[0m\u001b[1;33m\u001b[0m\u001b[0m\n\u001b[0;32m    811\u001b[0m             \u001b[1;32mif\u001b[0m \u001b[0mself\u001b[0m\u001b[1;33m.\u001b[0m\u001b[0mauto_open\u001b[0m\u001b[1;33m:\u001b[0m\u001b[1;33m\u001b[0m\u001b[0m\n\u001b[1;32m--> 812\u001b[1;33m                 \u001b[0mself\u001b[0m\u001b[1;33m.\u001b[0m\u001b[0mconnect\u001b[0m\u001b[1;33m(\u001b[0m\u001b[1;33m)\u001b[0m\u001b[1;33m\u001b[0m\u001b[0m\n\u001b[0m\u001b[0;32m    813\u001b[0m             \u001b[1;32melse\u001b[0m\u001b[1;33m:\u001b[0m\u001b[1;33m\u001b[0m\u001b[0m\n\u001b[0;32m    814\u001b[0m                 \u001b[1;32mraise\u001b[0m \u001b[0mNotConnected\u001b[0m\u001b[1;33m(\u001b[0m\u001b[1;33m)\u001b[0m\u001b[1;33m\u001b[0m\u001b[0m\n",
      "\u001b[1;32m/usr/lib/python2.7/httplib.pyc\u001b[0m in \u001b[0;36mconnect\u001b[1;34m(self)\u001b[0m\n\u001b[0;32m    791\u001b[0m         \u001b[1;34m\"\"\"Connect to the host and port specified in __init__.\"\"\"\u001b[0m\u001b[1;33m\u001b[0m\u001b[0m\n\u001b[0;32m    792\u001b[0m         self.sock = self._create_connection((self.host,self.port),\n\u001b[1;32m--> 793\u001b[1;33m                                            self.timeout, self.source_address)\n\u001b[0m\u001b[0;32m    794\u001b[0m \u001b[1;33m\u001b[0m\u001b[0m\n\u001b[0;32m    795\u001b[0m         \u001b[1;32mif\u001b[0m \u001b[0mself\u001b[0m\u001b[1;33m.\u001b[0m\u001b[0m_tunnel_host\u001b[0m\u001b[1;33m:\u001b[0m\u001b[1;33m\u001b[0m\u001b[0m\n",
      "\u001b[1;32m/usr/lib/python2.7/socket.pyc\u001b[0m in \u001b[0;36mcreate_connection\u001b[1;34m(address, timeout, source_address)\u001b[0m\n\u001b[0;32m    569\u001b[0m \u001b[1;33m\u001b[0m\u001b[0m\n\u001b[0;32m    570\u001b[0m     \u001b[1;32mif\u001b[0m \u001b[0merr\u001b[0m \u001b[1;32mis\u001b[0m \u001b[1;32mnot\u001b[0m \u001b[0mNone\u001b[0m\u001b[1;33m:\u001b[0m\u001b[1;33m\u001b[0m\u001b[0m\n\u001b[1;32m--> 571\u001b[1;33m         \u001b[1;32mraise\u001b[0m \u001b[0merr\u001b[0m\u001b[1;33m\u001b[0m\u001b[0m\n\u001b[0m\u001b[0;32m    572\u001b[0m     \u001b[1;32melse\u001b[0m\u001b[1;33m:\u001b[0m\u001b[1;33m\u001b[0m\u001b[0m\n\u001b[0;32m    573\u001b[0m         \u001b[1;32mraise\u001b[0m \u001b[0merror\u001b[0m\u001b[1;33m(\u001b[0m\u001b[1;34m\"getaddrinfo returns an empty list\"\u001b[0m\u001b[1;33m)\u001b[0m\u001b[1;33m\u001b[0m\u001b[0m\n",
      "\u001b[1;31merror\u001b[0m: [Errno 111] Connection refused"
     ]
    }
   ],
   "source": [
    "#browser.click_link_by_href('http://www.google.co.nz/preferences')"
   ]
  },
  {
   "cell_type": "code",
   "execution_count": 1,
   "metadata": {
    "collapsed": true
   },
   "outputs": [],
   "source": [
    "import time"
   ]
  },
  {
   "cell_type": "code",
   "execution_count": 19,
   "metadata": {
    "collapsed": false
   },
   "outputs": [
    {
     "name": "stdout",
     "output_type": "stream",
     "text": [
      "Yes, the official website was found!\n"
     ]
    }
   ],
   "source": [
    "#Code for open up web browser on library system and \n",
    "#acceot their t&c.\n",
    "#Need to get web address to go to, and button find_by_name \n",
    "#to click.\n",
    "\n",
    "from splinter import Browser\n",
    "\n",
    "with Browser() as browser:\n",
    "    # Visit URL\n",
    "    url = \"http://www.google.com\"\n",
    "    browser.visit(url)\n",
    "    browser.fill('q', 'artcontrol')\n",
    "    # Find and click the 'search' button\n",
    "    button = browser.find_by_name('btnG')\n",
    "    # Interact with elements\n",
    "    button.click()\n",
    "    time.sleep(5)\n",
    "    if browser.is_text_present('artcontrol.me'):\n",
    "        print \"Yes, the official website was found!\"\n",
    "    else:\n",
    "        print \"No, it wasn't found... We need to improve our SEO techniques\"\n"
   ]
  },
  {
   "cell_type": "code",
   "execution_count": null,
   "metadata": {
    "collapsed": true
   },
   "outputs": [],
   "source": []
  },
  {
   "cell_type": "code",
   "execution_count": 27,
   "metadata": {
    "collapsed": false
   },
   "outputs": [
    {
     "name": "stdout",
     "output_type": "stream",
     "text": [
      "\n",
      "  Name                      File\n",
      "  ----                      ----\n",
      "m ConfigParser              /usr/lib/python2.7/ConfigParser.py\n",
      "m Cookie                    /usr/lib/python2.7/Cookie.py\n",
      "P OpenSSL                   /usr/lib/python2.7/dist-packages/OpenSSL/__init__.py\n",
      "m OpenSSL.SSL               /usr/lib/python2.7/dist-packages/OpenSSL/SSL.py\n",
      "m OpenSSL._util             /usr/lib/python2.7/dist-packages/OpenSSL/_util.py\n",
      "m OpenSSL.crypto            /usr/lib/python2.7/dist-packages/OpenSSL/crypto.py\n",
      "m OpenSSL.rand              /usr/lib/python2.7/dist-packages/OpenSSL/rand.py\n",
      "m OpenSSL.version           /usr/lib/python2.7/dist-packages/OpenSSL/version.py\n",
      "m Queue                     /usr/lib/python2.7/Queue.py\n",
      "m StringIO                  /usr/lib/python2.7/StringIO.py\n",
      "m UserDict                  /usr/lib/python2.7/UserDict.py\n",
      "m _LWPCookieJar             /usr/lib/python2.7/_LWPCookieJar.py\n",
      "m _MozillaCookieJar         /usr/lib/python2.7/_MozillaCookieJar.py\n",
      "m __builtin__               \n",
      "m __future__                /usr/lib/python2.7/__future__.py\n",
      "m __main__                  /home/wcmckee/github/niketa/rgdsnatch.py\n",
      "m _abcoll                   /usr/lib/python2.7/_abcoll.py\n",
      "m _bisect                   \n",
      "m _cffi_backend             /usr/lib/python2.7/dist-packages/_cffi_backend.arm-linux-gnueabihf.so\n",
      "m _codecs                   \n",
      "m _collections              \n",
      "m _ctypes                   /usr/lib/python2.7/lib-dynload/_ctypes.arm-linux-gnueabihf.so\n",
      "m _functools                \n",
      "m _hashlib                  /usr/lib/python2.7/lib-dynload/_hashlib.arm-linux-gnueabihf.so\n",
      "m _heapq                    \n",
      "m _io                       \n",
      "m _json                     /usr/lib/python2.7/lib-dynload/_json.arm-linux-gnueabihf.so\n",
      "m _locale                   \n",
      "m _md5                      \n",
      "m _osx_support              /usr/lib/python2.7/_osx_support.py\n",
      "m _random                   \n",
      "m _sha                      \n",
      "m _sha256                   \n",
      "m _sha512                   \n",
      "m _socket                   \n",
      "m _sre                      \n",
      "m _ssl                      /usr/lib/python2.7/lib-dynload/_ssl.arm-linux-gnueabihf.so\n",
      "m _struct                   \n",
      "m _sysconfigdata            /usr/lib/python2.7/_sysconfigdata.py\n",
      "m _sysconfigdata_nd         /usr/lib/python2.7/plat-arm-linux-gnueabihf/_sysconfigdata_nd.py\n",
      "m _threading_local          /usr/lib/python2.7/_threading_local.py\n",
      "m _warnings                 \n",
      "m _weakref                  \n",
      "m _weakrefset               /usr/lib/python2.7/_weakrefset.py\n",
      "m abc                       /usr/lib/python2.7/abc.py\n",
      "m array                     \n",
      "m atexit                    /usr/lib/python2.7/atexit.py\n",
      "P backports                 /home/wcmckee/.local/lib/python2.7/site-packages/backports/__init__.py\n",
      "P backports.ssl_match_hostname /home/wcmckee/.local/lib/python2.7/site-packages/backports/ssl_match_hostname/__init__.py\n",
      "m base64                    /usr/lib/python2.7/base64.py\n",
      "m bdb                       /usr/lib/python2.7/bdb.py\n",
      "m binascii                  \n",
      "m bisect                    /usr/lib/python2.7/bisect.py\n",
      "m bz2                       /usr/lib/python2.7/lib-dynload/bz2.arm-linux-gnueabihf.so\n",
      "m cPickle                   \n",
      "m cStringIO                 \n",
      "m calendar                  /usr/lib/python2.7/calendar.py\n",
      "P certifi                   /home/wcmckee/.local/lib/python2.7/site-packages/certifi/__init__.py\n",
      "m certifi.core              /home/wcmckee/.local/lib/python2.7/site-packages/certifi/core.py\n",
      "P cffi                      /usr/lib/python2.7/dist-packages/cffi/__init__.py\n",
      "m cffi.api                  /usr/lib/python2.7/dist-packages/cffi/api.py\n",
      "m cffi.commontypes          /usr/lib/python2.7/dist-packages/cffi/commontypes.py\n",
      "m cffi.cparser              /usr/lib/python2.7/dist-packages/cffi/cparser.py\n",
      "m cffi.ffiplatform          /usr/lib/python2.7/dist-packages/cffi/ffiplatform.py\n",
      "m cffi.gc_weakref           /usr/lib/python2.7/dist-packages/cffi/gc_weakref.py\n",
      "m cffi.lock                 /usr/lib/python2.7/dist-packages/cffi/lock.py\n",
      "m cffi.model                /usr/lib/python2.7/dist-packages/cffi/model.py\n",
      "m cffi.vengine_cpy          /usr/lib/python2.7/dist-packages/cffi/vengine_cpy.py\n",
      "m cffi.vengine_gen          /usr/lib/python2.7/dist-packages/cffi/vengine_gen.py\n",
      "m cffi.verifier             /usr/lib/python2.7/dist-packages/cffi/verifier.py\n",
      "m cgi                       /usr/lib/python2.7/cgi.py\n",
      "m cmd                       /usr/lib/python2.7/cmd.py\n",
      "m codecs                    /usr/lib/python2.7/codecs.py\n",
      "m collections               /usr/lib/python2.7/collections.py\n",
      "m configparser              /usr/lib/python2.7/dist-packages/configparser.py\n",
      "m configparser_helpers      /usr/lib/python2.7/dist-packages/configparser_helpers.py\n",
      "m contextlib                /usr/lib/python2.7/contextlib.py\n",
      "m cookielib                 /usr/lib/python2.7/cookielib.py\n",
      "m copy                      /usr/lib/python2.7/copy.py\n",
      "m copy_reg                  /usr/lib/python2.7/copy_reg.py\n",
      "P cryptography              /usr/lib/python2.7/dist-packages/cryptography/__init__.py\n",
      "m cryptography.__about__    /usr/lib/python2.7/dist-packages/cryptography/__about__.py\n",
      "P cryptography.hazmat       /usr/lib/python2.7/dist-packages/cryptography/hazmat/__init__.py\n",
      "P cryptography.hazmat.bindings /usr/lib/python2.7/dist-packages/cryptography/hazmat/bindings/__init__.py\n",
      "P cryptography.hazmat.bindings.openssl /usr/lib/python2.7/dist-packages/cryptography/hazmat/bindings/openssl/__init__.py\n",
      "m cryptography.hazmat.bindings.openssl.binding /usr/lib/python2.7/dist-packages/cryptography/hazmat/bindings/openssl/binding.py\n",
      "m cryptography.hazmat.bindings.utils /usr/lib/python2.7/dist-packages/cryptography/hazmat/bindings/utils.py\n",
      "P ctypes                    /usr/lib/python2.7/ctypes/__init__.py\n",
      "m ctypes._endian            /usr/lib/python2.7/ctypes/_endian.py\n",
      "m ctypes.util               /usr/lib/python2.7/ctypes/util.py\n",
      "m datetime                  \n",
      "m decimal                   /usr/lib/python2.7/decimal.py\n",
      "m difflib                   /usr/lib/python2.7/difflib.py\n",
      "m dis                       /usr/lib/python2.7/dis.py\n",
      "P distutils                 /usr/lib/python2.7/distutils/__init__.py\n",
      "m distutils.archive_util    /usr/lib/python2.7/distutils/archive_util.py\n",
      "m distutils.cmd             /usr/lib/python2.7/distutils/cmd.py\n",
      "P distutils.command         /usr/lib/python2.7/distutils/command/__init__.py\n",
      "m distutils.config          /usr/lib/python2.7/distutils/config.py\n",
      "m distutils.core            /usr/lib/python2.7/distutils/core.py\n",
      "m distutils.debug           /usr/lib/python2.7/distutils/debug.py\n",
      "m distutils.dep_util        /usr/lib/python2.7/distutils/dep_util.py\n",
      "m distutils.dir_util        /usr/lib/python2.7/distutils/dir_util.py\n",
      "m distutils.dist            /usr/lib/python2.7/distutils/dist.py\n",
      "m distutils.errors          /usr/lib/python2.7/distutils/errors.py\n",
      "m distutils.extension       /usr/lib/python2.7/distutils/extension.py\n",
      "m distutils.fancy_getopt    /usr/lib/python2.7/distutils/fancy_getopt.py\n",
      "m distutils.file_util       /usr/lib/python2.7/distutils/file_util.py\n",
      "m distutils.log             /usr/lib/python2.7/distutils/log.py\n",
      "m distutils.spawn           /usr/lib/python2.7/distutils/spawn.py\n",
      "m distutils.sysconfig       /usr/lib/python2.7/distutils/sysconfig.py\n",
      "m distutils.text_file       /usr/lib/python2.7/distutils/text_file.py\n",
      "m distutils.util            /usr/lib/python2.7/distutils/util.py\n",
      "m distutils.version         /usr/lib/python2.7/distutils/version.py\n",
      "m distutils.versionpredicate /usr/lib/python2.7/distutils/versionpredicate.py\n",
      "m doctest                   /usr/lib/python2.7/doctest.py\n",
      "m dummy_thread              /usr/lib/python2.7/dummy_thread.py\n",
      "m dummy_threading           /usr/lib/python2.7/dummy_threading.py\n",
      "P email                     /usr/lib/python2.7/email/__init__.py\n",
      "m email._parseaddr          /usr/lib/python2.7/email/_parseaddr.py\n",
      "m email.base64mime          /usr/lib/python2.7/email/base64mime.py\n",
      "m email.charset             /usr/lib/python2.7/email/charset.py\n",
      "m email.encoders            /usr/lib/python2.7/email/encoders.py\n",
      "m email.errors              /usr/lib/python2.7/email/errors.py\n",
      "m email.feedparser          /usr/lib/python2.7/email/feedparser.py\n",
      "m email.generator           /usr/lib/python2.7/email/generator.py\n",
      "m email.header              /usr/lib/python2.7/email/header.py\n",
      "m email.iterators           /usr/lib/python2.7/email/iterators.py\n",
      "m email.message             /usr/lib/python2.7/email/message.py\n",
      "P email.mime                /usr/lib/python2.7/email/mime/__init__.py\n",
      "m email.parser              /usr/lib/python2.7/email/parser.py\n",
      "m email.quoprimime          /usr/lib/python2.7/email/quoprimime.py\n",
      "m email.utils               /usr/lib/python2.7/email/utils.py\n",
      "P encodings                 /usr/lib/python2.7/encodings/__init__.py\n",
      "m encodings.aliases         /usr/lib/python2.7/encodings/aliases.py\n",
      "m errno                     \n",
      "m exceptions                \n",
      "m fcntl                     \n",
      "m fnmatch                   /usr/lib/python2.7/fnmatch.py\n",
      "m ftplib                    /usr/lib/python2.7/ftplib.py\n",
      "m functools                 /usr/lib/python2.7/functools.py\n",
      "m gc                        \n",
      "m genericpath               /usr/lib/python2.7/genericpath.py\n",
      "m getopt                    /usr/lib/python2.7/getopt.py\n",
      "m getpass                   /usr/lib/python2.7/getpass.py\n",
      "m gettext                   /usr/lib/python2.7/gettext.py\n",
      "m grp                       \n",
      "m gzip                      /usr/lib/python2.7/gzip.py\n",
      "m hashlib                   /usr/lib/python2.7/hashlib.py\n",
      "m heapq                     /usr/lib/python2.7/heapq.py\n",
      "m httplib                   /usr/lib/python2.7/httplib.py\n",
      "m imp                       \n",
      "P importlib                 /usr/lib/python2.7/importlib/__init__.py\n",
      "m inspect                   /usr/lib/python2.7/inspect.py\n",
      "m io                        /usr/lib/python2.7/io.py\n",
      "m itertools                 \n",
      "P json                      /usr/lib/python2.7/json/__init__.py\n",
      "m json.decoder              /usr/lib/python2.7/json/decoder.py\n",
      "m json.encoder              /usr/lib/python2.7/json/encoder.py\n",
      "m json.scanner              /usr/lib/python2.7/json/scanner.py\n",
      "m keyword                   /usr/lib/python2.7/keyword.py\n",
      "m linecache                 /usr/lib/python2.7/linecache.py\n",
      "m locale                    /usr/lib/python2.7/locale.py\n",
      "P logging                   /usr/lib/python2.7/logging/__init__.py\n",
      "m marshal                   \n",
      "m math                      \n",
      "m md5                       /usr/lib/python2.7/md5.py\n",
      "m mimetools                 /usr/lib/python2.7/mimetools.py\n",
      "m mimetypes                 /usr/lib/python2.7/mimetypes.py\n",
      "P ndg                       /usr/lib/pymodules/python2.7/ndg/__init__.py\n",
      "P ndg.httpsclient           /usr/lib/pymodules/python2.7/ndg/httpsclient/__init__.py\n",
      "m ndg.httpsclient.ssl_peer_verification /usr/lib/pymodules/python2.7/ndg/httpsclient/ssl_peer_verification.py\n",
      "m ndg.httpsclient.subj_alt_name /usr/lib/pymodules/python2.7/ndg/httpsclient/subj_alt_name.py\n",
      "m netrc                     /usr/lib/python2.7/netrc.py\n",
      "m ntpath                    /usr/lib/python2.7/ntpath.py\n",
      "m nturl2path                /usr/lib/python2.7/nturl2path.py\n",
      "m numbers                   /usr/lib/python2.7/numbers.py\n",
      "m opcode                    /usr/lib/python2.7/opcode.py\n",
      "m operator                  \n",
      "m optparse                  /usr/lib/python2.7/optparse.py\n",
      "m os                        /usr/lib/python2.7/os.py\n",
      "m os2emxpath                /usr/lib/python2.7/os2emxpath.py\n",
      "m pdb                       /usr/lib/python2.7/pdb.py\n",
      "m pickle                    /usr/lib/python2.7/pickle.py\n",
      "m pkgutil                   /usr/lib/python2.7/pkgutil.py\n",
      "m platform                  /usr/lib/python2.7/platform.py\n",
      "m plistlib                  /usr/lib/python2.7/plistlib.py\n",
      "P ply                       /usr/lib/python2.7/dist-packages/ply/__init__.py\n",
      "m ply.lex                   /usr/lib/python2.7/dist-packages/ply/lex.py\n",
      "m ply.yacc                  /usr/lib/python2.7/dist-packages/ply/yacc.py\n",
      "m posix                     \n",
      "m posixpath                 /usr/lib/python2.7/posixpath.py\n",
      "m pprint                    /usr/lib/python2.7/pprint.py\n",
      "P praw                      /usr/local/lib/python2.7/dist-packages/praw/__init__.py\n",
      "m praw.decorators           /usr/local/lib/python2.7/dist-packages/praw/decorators.py\n",
      "m praw.errors               /usr/local/lib/python2.7/dist-packages/praw/errors.py\n",
      "m praw.handlers             /usr/local/lib/python2.7/dist-packages/praw/handlers.py\n",
      "m praw.helpers              /usr/local/lib/python2.7/dist-packages/praw/helpers.py\n",
      "m praw.internal             /usr/local/lib/python2.7/dist-packages/praw/internal.py\n",
      "m praw.objects              /usr/local/lib/python2.7/dist-packages/praw/objects.py\n",
      "m praw.settings             /usr/local/lib/python2.7/dist-packages/praw/settings.py\n",
      "m pwd                       \n",
      "m py_compile                /usr/lib/python2.7/py_compile.py\n",
      "P pyasn1                    /usr/lib/python2.7/dist-packages/pyasn1/__init__.py\n",
      "P pyasn1.codec              /usr/lib/python2.7/dist-packages/pyasn1/codec/__init__.py\n",
      "P pyasn1.codec.ber          /usr/lib/python2.7/dist-packages/pyasn1/codec/ber/__init__.py\n",
      "m pyasn1.codec.ber.decoder  /usr/lib/python2.7/dist-packages/pyasn1/codec/ber/decoder.py\n",
      "m pyasn1.codec.ber.eoo      /usr/lib/python2.7/dist-packages/pyasn1/codec/ber/eoo.py\n",
      "P pyasn1.codec.cer          /usr/lib/python2.7/dist-packages/pyasn1/codec/cer/__init__.py\n",
      "m pyasn1.codec.cer.decoder  /usr/lib/python2.7/dist-packages/pyasn1/codec/cer/decoder.py\n",
      "P pyasn1.codec.der          /usr/lib/python2.7/dist-packages/pyasn1/codec/der/__init__.py\n",
      "m pyasn1.codec.der.decoder  /usr/lib/python2.7/dist-packages/pyasn1/codec/der/decoder.py\n",
      "P pyasn1.compat             /usr/lib/python2.7/dist-packages/pyasn1/compat/__init__.py\n",
      "m pyasn1.compat.octets      /usr/lib/python2.7/dist-packages/pyasn1/compat/octets.py\n",
      "m pyasn1.debug              /usr/lib/python2.7/dist-packages/pyasn1/debug.py\n",
      "m pyasn1.error              /usr/lib/python2.7/dist-packages/pyasn1/error.py\n",
      "P pyasn1.type               /usr/lib/python2.7/dist-packages/pyasn1/type/__init__.py\n",
      "m pyasn1.type.base          /usr/lib/python2.7/dist-packages/pyasn1/type/base.py\n",
      "m pyasn1.type.char          /usr/lib/python2.7/dist-packages/pyasn1/type/char.py\n",
      "m pyasn1.type.constraint    /usr/lib/python2.7/dist-packages/pyasn1/type/constraint.py\n",
      "m pyasn1.type.error         /usr/lib/python2.7/dist-packages/pyasn1/type/error.py\n",
      "m pyasn1.type.namedtype     /usr/lib/python2.7/dist-packages/pyasn1/type/namedtype.py\n",
      "m pyasn1.type.namedval      /usr/lib/python2.7/dist-packages/pyasn1/type/namedval.py\n",
      "m pyasn1.type.tag           /usr/lib/python2.7/dist-packages/pyasn1/type/tag.py\n",
      "m pyasn1.type.tagmap        /usr/lib/python2.7/dist-packages/pyasn1/type/tagmap.py\n",
      "m pyasn1.type.univ          /usr/lib/python2.7/dist-packages/pyasn1/type/univ.py\n",
      "m pyasn1.type.useful        /usr/lib/python2.7/dist-packages/pyasn1/type/useful.py\n",
      "P pycparser                 /usr/lib/python2.7/dist-packages/pycparser/__init__.py\n",
      "m pycparser.ast_transforms  /usr/lib/python2.7/dist-packages/pycparser/ast_transforms.py\n",
      "m pycparser.c_ast           /usr/lib/python2.7/dist-packages/pycparser/c_ast.py\n",
      "m pycparser.c_lexer         /usr/lib/python2.7/dist-packages/pycparser/c_lexer.py\n",
      "m pycparser.c_parser        /usr/lib/python2.7/dist-packages/pycparser/c_parser.py\n",
      "m pycparser.plyparser       /usr/lib/python2.7/dist-packages/pycparser/plyparser.py\n",
      "m pyexpat                   /usr/lib/python2.7/lib-dynload/pyexpat.arm-linux-gnueabihf.so\n",
      "m quopri                    /usr/lib/python2.7/quopri.py\n",
      "m random                    /usr/lib/python2.7/random.py\n",
      "m re                        /usr/lib/python2.7/re.py\n",
      "m readline                  /usr/lib/python2.7/lib-dynload/readline.arm-linux-gnueabihf.so\n",
      "m repr                      /usr/lib/python2.7/repr.py\n",
      "P requests                  /usr/local/lib/python2.7/dist-packages/requests/__init__.py\n",
      "m requests.adapters         /usr/local/lib/python2.7/dist-packages/requests/adapters.py\n",
      "m requests.api              /usr/local/lib/python2.7/dist-packages/requests/api.py\n",
      "m requests.auth             /usr/local/lib/python2.7/dist-packages/requests/auth.py\n",
      "m requests.certs            /usr/local/lib/python2.7/dist-packages/requests/certs.py\n",
      "m requests.compat           /usr/local/lib/python2.7/dist-packages/requests/compat.py\n",
      "m requests.cookies          /usr/local/lib/python2.7/dist-packages/requests/cookies.py\n",
      "m requests.exceptions       /usr/local/lib/python2.7/dist-packages/requests/exceptions.py\n",
      "m requests.hooks            /usr/local/lib/python2.7/dist-packages/requests/hooks.py\n",
      "m requests.models           /usr/local/lib/python2.7/dist-packages/requests/models.py\n",
      "P requests.packages         /usr/local/lib/python2.7/dist-packages/requests/packages/__init__.py\n",
      "P requests.packages.chardet /usr/local/lib/python2.7/dist-packages/requests/packages/chardet/__init__.py\n",
      "m requests.packages.chardet.big5freq /usr/local/lib/python2.7/dist-packages/requests/packages/chardet/big5freq.py\n",
      "m requests.packages.chardet.big5prober /usr/local/lib/python2.7/dist-packages/requests/packages/chardet/big5prober.py\n",
      "m requests.packages.chardet.chardistribution /usr/local/lib/python2.7/dist-packages/requests/packages/chardet/chardistribution.py\n",
      "m requests.packages.chardet.charsetgroupprober /usr/local/lib/python2.7/dist-packages/requests/packages/chardet/charsetgroupprober.py\n",
      "m requests.packages.chardet.charsetprober /usr/local/lib/python2.7/dist-packages/requests/packages/chardet/charsetprober.py\n",
      "m requests.packages.chardet.codingstatemachine /usr/local/lib/python2.7/dist-packages/requests/packages/chardet/codingstatemachine.py\n",
      "m requests.packages.chardet.compat /usr/local/lib/python2.7/dist-packages/requests/packages/chardet/compat.py\n",
      "m requests.packages.chardet.constants /usr/local/lib/python2.7/dist-packages/requests/packages/chardet/constants.py\n",
      "m requests.packages.chardet.cp949prober /usr/local/lib/python2.7/dist-packages/requests/packages/chardet/cp949prober.py\n",
      "m requests.packages.chardet.escprober /usr/local/lib/python2.7/dist-packages/requests/packages/chardet/escprober.py\n",
      "m requests.packages.chardet.escsm /usr/local/lib/python2.7/dist-packages/requests/packages/chardet/escsm.py\n",
      "m requests.packages.chardet.eucjpprober /usr/local/lib/python2.7/dist-packages/requests/packages/chardet/eucjpprober.py\n",
      "m requests.packages.chardet.euckrfreq /usr/local/lib/python2.7/dist-packages/requests/packages/chardet/euckrfreq.py\n",
      "m requests.packages.chardet.euckrprober /usr/local/lib/python2.7/dist-packages/requests/packages/chardet/euckrprober.py\n",
      "m requests.packages.chardet.euctwfreq /usr/local/lib/python2.7/dist-packages/requests/packages/chardet/euctwfreq.py\n",
      "m requests.packages.chardet.euctwprober /usr/local/lib/python2.7/dist-packages/requests/packages/chardet/euctwprober.py\n",
      "m requests.packages.chardet.gb2312freq /usr/local/lib/python2.7/dist-packages/requests/packages/chardet/gb2312freq.py\n",
      "m requests.packages.chardet.gb2312prober /usr/local/lib/python2.7/dist-packages/requests/packages/chardet/gb2312prober.py\n",
      "m requests.packages.chardet.hebrewprober /usr/local/lib/python2.7/dist-packages/requests/packages/chardet/hebrewprober.py\n",
      "m requests.packages.chardet.jisfreq /usr/local/lib/python2.7/dist-packages/requests/packages/chardet/jisfreq.py\n",
      "m requests.packages.chardet.jpcntx /usr/local/lib/python2.7/dist-packages/requests/packages/chardet/jpcntx.py\n",
      "m requests.packages.chardet.langbulgarianmodel /usr/local/lib/python2.7/dist-packages/requests/packages/chardet/langbulgarianmodel.py\n",
      "m requests.packages.chardet.langcyrillicmodel /usr/local/lib/python2.7/dist-packages/requests/packages/chardet/langcyrillicmodel.py\n",
      "m requests.packages.chardet.langgreekmodel /usr/local/lib/python2.7/dist-packages/requests/packages/chardet/langgreekmodel.py\n",
      "m requests.packages.chardet.langhebrewmodel /usr/local/lib/python2.7/dist-packages/requests/packages/chardet/langhebrewmodel.py\n",
      "m requests.packages.chardet.langhungarianmodel /usr/local/lib/python2.7/dist-packages/requests/packages/chardet/langhungarianmodel.py\n",
      "m requests.packages.chardet.langthaimodel /usr/local/lib/python2.7/dist-packages/requests/packages/chardet/langthaimodel.py\n",
      "m requests.packages.chardet.latin1prober /usr/local/lib/python2.7/dist-packages/requests/packages/chardet/latin1prober.py\n",
      "m requests.packages.chardet.mbcharsetprober /usr/local/lib/python2.7/dist-packages/requests/packages/chardet/mbcharsetprober.py\n",
      "m requests.packages.chardet.mbcsgroupprober /usr/local/lib/python2.7/dist-packages/requests/packages/chardet/mbcsgroupprober.py\n",
      "m requests.packages.chardet.mbcssm /usr/local/lib/python2.7/dist-packages/requests/packages/chardet/mbcssm.py\n",
      "m requests.packages.chardet.sbcharsetprober /usr/local/lib/python2.7/dist-packages/requests/packages/chardet/sbcharsetprober.py\n",
      "m requests.packages.chardet.sbcsgroupprober /usr/local/lib/python2.7/dist-packages/requests/packages/chardet/sbcsgroupprober.py\n",
      "m requests.packages.chardet.sjisprober /usr/local/lib/python2.7/dist-packages/requests/packages/chardet/sjisprober.py\n",
      "m requests.packages.chardet.universaldetector /usr/local/lib/python2.7/dist-packages/requests/packages/chardet/universaldetector.py\n",
      "m requests.packages.chardet.utf8prober /usr/local/lib/python2.7/dist-packages/requests/packages/chardet/utf8prober.py\n",
      "P requests.packages.urllib3 /usr/local/lib/python2.7/dist-packages/requests/packages/urllib3/__init__.py\n",
      "m requests.packages.urllib3._collections /usr/local/lib/python2.7/dist-packages/requests/packages/urllib3/_collections.py\n",
      "m requests.packages.urllib3.connection /usr/local/lib/python2.7/dist-packages/requests/packages/urllib3/connection.py\n",
      "m requests.packages.urllib3.connectionpool /usr/local/lib/python2.7/dist-packages/requests/packages/urllib3/connectionpool.py\n",
      "P requests.packages.urllib3.contrib /usr/local/lib/python2.7/dist-packages/requests/packages/urllib3/contrib/__init__.py\n",
      "m requests.packages.urllib3.contrib.pyopenssl /usr/local/lib/python2.7/dist-packages/requests/packages/urllib3/contrib/pyopenssl.py\n",
      "m requests.packages.urllib3.exceptions /usr/local/lib/python2.7/dist-packages/requests/packages/urllib3/exceptions.py\n",
      "m requests.packages.urllib3.fields /usr/local/lib/python2.7/dist-packages/requests/packages/urllib3/fields.py\n",
      "m requests.packages.urllib3.filepost /usr/local/lib/python2.7/dist-packages/requests/packages/urllib3/filepost.py\n",
      "P requests.packages.urllib3.packages /usr/local/lib/python2.7/dist-packages/requests/packages/urllib3/packages/__init__.py\n",
      "m requests.packages.urllib3.packages.ordered_dict /usr/local/lib/python2.7/dist-packages/requests/packages/urllib3/packages/ordered_dict.py\n",
      "m requests.packages.urllib3.packages.six /usr/local/lib/python2.7/dist-packages/requests/packages/urllib3/packages/six.py\n",
      "P requests.packages.urllib3.packages.ssl_match_hostname /usr/local/lib/python2.7/dist-packages/requests/packages/urllib3/packages/ssl_match_hostname/__init__.py\n",
      "m requests.packages.urllib3.packages.ssl_match_hostname._implementation /usr/local/lib/python2.7/dist-packages/requests/packages/urllib3/packages/ssl_match_hostname/_implementation.py\n",
      "m requests.packages.urllib3.poolmanager /usr/local/lib/python2.7/dist-packages/requests/packages/urllib3/poolmanager.py\n",
      "m requests.packages.urllib3.request /usr/local/lib/python2.7/dist-packages/requests/packages/urllib3/request.py\n",
      "m requests.packages.urllib3.response /usr/local/lib/python2.7/dist-packages/requests/packages/urllib3/response.py\n",
      "P requests.packages.urllib3.util /usr/local/lib/python2.7/dist-packages/requests/packages/urllib3/util/__init__.py\n",
      "m requests.packages.urllib3.util.connection /usr/local/lib/python2.7/dist-packages/requests/packages/urllib3/util/connection.py\n",
      "m requests.packages.urllib3.util.request /usr/local/lib/python2.7/dist-packages/requests/packages/urllib3/util/request.py\n",
      "m requests.packages.urllib3.util.response /usr/local/lib/python2.7/dist-packages/requests/packages/urllib3/util/response.py\n",
      "m requests.packages.urllib3.util.retry /usr/local/lib/python2.7/dist-packages/requests/packages/urllib3/util/retry.py\n",
      "m requests.packages.urllib3.util.ssl_ /usr/local/lib/python2.7/dist-packages/requests/packages/urllib3/util/ssl_.py\n",
      "m requests.packages.urllib3.util.timeout /usr/local/lib/python2.7/dist-packages/requests/packages/urllib3/util/timeout.py\n",
      "m requests.packages.urllib3.util.url /usr/local/lib/python2.7/dist-packages/requests/packages/urllib3/util/url.py\n",
      "m requests.sessions         /usr/local/lib/python2.7/dist-packages/requests/sessions.py\n",
      "m requests.status_codes     /usr/local/lib/python2.7/dist-packages/requests/status_codes.py\n",
      "m requests.structures       /usr/local/lib/python2.7/dist-packages/requests/structures.py\n",
      "m requests.utils            /usr/local/lib/python2.7/dist-packages/requests/utils.py\n",
      "m rfc822                    /usr/lib/python2.7/rfc822.py\n",
      "m select                    \n",
      "m shlex                     /usr/lib/python2.7/shlex.py\n",
      "m shutil                    /usr/lib/python2.7/shutil.py\n",
      "m signal                    \n",
      "P simplejson                /usr/lib/python2.7/dist-packages/simplejson/__init__.py\n",
      "m simplejson._speedups      /usr/lib/python2.7/dist-packages/simplejson/_speedups.arm-linux-gnueabihf.so\n",
      "m simplejson.compat         /usr/lib/python2.7/dist-packages/simplejson/compat.py\n",
      "m simplejson.decoder        /usr/lib/python2.7/dist-packages/simplejson/decoder.py\n",
      "m simplejson.encoder        /usr/lib/python2.7/dist-packages/simplejson/encoder.py\n",
      "m simplejson.ordered_dict   /usr/lib/python2.7/dist-packages/simplejson/ordered_dict.py\n",
      "m simplejson.scanner        /usr/lib/python2.7/dist-packages/simplejson/scanner.py\n",
      "m six                       /usr/local/lib/python2.7/dist-packages/six.py\n",
      "m socket                    /usr/lib/python2.7/socket.py\n",
      "m sre_compile               /usr/lib/python2.7/sre_compile.py\n",
      "m sre_constants             /usr/lib/python2.7/sre_constants.py\n",
      "m sre_parse                 /usr/lib/python2.7/sre_parse.py\n",
      "m ssl                       /usr/lib/python2.7/ssl.py\n",
      "m stat                      /usr/lib/python2.7/stat.py\n",
      "m string                    /usr/lib/python2.7/string.py\n",
      "m strop                     \n",
      "m struct                    /usr/lib/python2.7/struct.py\n",
      "m subprocess                /usr/lib/python2.7/subprocess.py\n",
      "m sys                       \n",
      "m tarfile                   /usr/lib/python2.7/tarfile.py\n",
      "m tempfile                  /usr/lib/python2.7/tempfile.py\n",
      "m termios                   /usr/lib/python2.7/lib-dynload/termios.arm-linux-gnueabihf.so\n",
      "m textwrap                  /usr/lib/python2.7/textwrap.py\n",
      "m thread                    \n",
      "m threading                 /usr/lib/python2.7/threading.py\n",
      "m time                      \n",
      "m timeit                    /usr/lib/python2.7/timeit.py\n",
      "m token                     /usr/lib/python2.7/token.py\n",
      "m tokenize                  /usr/lib/python2.7/tokenize.py\n",
      "m traceback                 /usr/lib/python2.7/traceback.py\n",
      "m types                     /usr/lib/python2.7/types.py\n",
      "P unittest                  /usr/lib/python2.7/unittest/__init__.py\n",
      "m unittest.case             /usr/lib/python2.7/unittest/case.py\n",
      "m unittest.loader           /usr/lib/python2.7/unittest/loader.py\n",
      "m unittest.main             /usr/lib/python2.7/unittest/main.py\n",
      "m unittest.result           /usr/lib/python2.7/unittest/result.py\n",
      "m unittest.runner           /usr/lib/python2.7/unittest/runner.py\n",
      "m unittest.signals          /usr/lib/python2.7/unittest/signals.py\n",
      "m unittest.suite            /usr/lib/python2.7/unittest/suite.py\n",
      "m unittest.util             /usr/lib/python2.7/unittest/util.py\n",
      "m update_checker            /usr/local/lib/python2.7/dist-packages/update_checker.py\n",
      "m urllib                    /usr/lib/python2.7/urllib.py\n",
      "m urllib2                   /usr/lib/python2.7/urllib2.py\n",
      "m urlparse                  /usr/lib/python2.7/urlparse.py\n",
      "m uu                        /usr/lib/python2.7/uu.py\n",
      "m uuid                      /usr/lib/python2.7/uuid.py\n",
      "m warnings                  /usr/lib/python2.7/warnings.py\n",
      "m weakref                   /usr/lib/python2.7/weakref.py\n",
      "P xml                       /usr/lib/python2.7/xml/__init__.py\n",
      "P xml.parsers               /usr/lib/python2.7/xml/parsers/__init__.py\n",
      "m xml.parsers.expat         /usr/lib/python2.7/xml/parsers/expat.py\n",
      "m zipfile                   /usr/lib/python2.7/zipfile.py\n",
      "m zipimport                 \n",
      "m zlib                      \n",
      "\n",
      "Missing modules:\n",
      "? Carbon imported from plistlib\n",
      "? Carbon.File imported from plistlib\n",
      "? Carbon.Files imported from plistlib\n",
      "? EasyDialogs imported from getpass\n",
      "? MacOS imported from platform\n",
      "? SOCKS imported from ftplib\n",
      "? _dummy_thread imported from cffi.lock, configparser_helpers\n",
      "? _dummy_threading imported from dummy_threading\n",
      "? _emx_link imported from os\n",
      "? _scproxy imported from urllib\n",
      "? _subprocess imported from subprocess\n",
      "? _sysconfigdata_d imported from _sysconfigdata\n",
      "? _thread imported from cffi.cparser, cffi.lock, configparser_helpers\n",
      "? _winreg imported from mimetypes, platform, urllib\n",
      "? _xmlplus imported from xml\n",
      "? builtins imported from requests.packages.urllib3.packages.six\n",
      "? ce imported from os\n",
      "? cffi._pycparser imported from -\n",
      "? ctypes.macholib.dyld imported from ctypes.util\n",
      "? gestalt imported from platform\n",
      "? http imported from requests.compat\n",
      "? http.client imported from requests.packages.urllib3.connection\n",
      "? http.cookies imported from requests.compat\n",
      "? importlib.reload imported from simplejson.compat\n",
      "? java.lang imported from platform\n",
      "? msvcrt imported from getpass, subprocess\n",
      "? netbios imported from uuid\n",
      "? nt imported from ntpath, os\n",
      "? ordereddict imported from configparser\n",
      "? org.python.core imported from copy, pickle\n",
      "? os.path imported from cffi.ffiplatform, distutils.file_util, os, pkgutil, ply.lex, ply.yacc, requests.certs, shlex, shutil\n",
      "? os2 imported from os\n",
      "? packages.ssl_match_hostname.CertificateError imported from requests.packages.urllib3.connectionpool\n",
      "? packages.ssl_match_hostname.match_hostname imported from requests.packages.urllib3.connection\n",
      "? packages.urllib3.Retry imported from requests.adapters\n",
      "? packages.urllib3.util.Timeout imported from requests.adapters\n",
      "? packages.urllib3.util.parse_url imported from requests.models\n",
      "? queue imported from requests.packages.urllib3.connectionpool\n",
      "? riscos imported from os\n",
      "? riscosenviron imported from os\n",
      "? riscospath imported from os\n",
      "? rourl2path imported from urllib\n",
      "? six.moves.urllib.parse imported from praw, praw.objects\n",
      "? urllib.parse imported from requests.compat, requests.packages.urllib3.poolmanager, requests.packages.urllib3.request\n",
      "? urllib.request imported from requests.compat\n",
      "? vms_lib imported from platform\n",
      "? win32api imported from platform\n",
      "? win32con imported from platform\n",
      "? win32pipe imported from platform\n",
      "? win32wnet imported from uuid\n"
     ]
    }
   ],
   "source": [
    "mwcm.report()"
   ]
  },
  {
   "cell_type": "code",
   "execution_count": 28,
   "metadata": {
    "collapsed": false
   },
   "outputs": [
    {
     "ename": "ImportError",
     "evalue": "No module named requests.__main__; 'requests' is a package and cannot be directly executed",
     "output_type": "error",
     "traceback": [
      "\u001b[1;31m---------------------------------------------------------------------------\u001b[0m",
      "\u001b[1;31mImportError\u001b[0m                               Traceback (most recent call last)",
      "\u001b[1;32m<ipython-input-28-e00a0160b4b3>\u001b[0m in \u001b[0;36m<module>\u001b[1;34m()\u001b[0m\n\u001b[1;32m----> 1\u001b[1;33m \u001b[0mrunpy\u001b[0m\u001b[1;33m.\u001b[0m\u001b[0mrun_module\u001b[0m\u001b[1;33m(\u001b[0m\u001b[1;34m'requests'\u001b[0m\u001b[1;33m)\u001b[0m\u001b[1;33m\u001b[0m\u001b[0m\n\u001b[0m",
      "\u001b[1;32m/usr/lib/python2.7/runpy.pyc\u001b[0m in \u001b[0;36mrun_module\u001b[1;34m(mod_name, init_globals, run_name, alter_sys)\u001b[0m\n\u001b[0;32m    168\u001b[0m        \u001b[0mReturns\u001b[0m \u001b[0mthe\u001b[0m \u001b[0mresulting\u001b[0m \u001b[0mtop\u001b[0m \u001b[0mlevel\u001b[0m \u001b[0mnamespace\u001b[0m \u001b[0mdictionary\u001b[0m\u001b[1;33m\u001b[0m\u001b[0m\n\u001b[0;32m    169\u001b[0m     \"\"\"\n\u001b[1;32m--> 170\u001b[1;33m     \u001b[0mmod_name\u001b[0m\u001b[1;33m,\u001b[0m \u001b[0mloader\u001b[0m\u001b[1;33m,\u001b[0m \u001b[0mcode\u001b[0m\u001b[1;33m,\u001b[0m \u001b[0mfname\u001b[0m \u001b[1;33m=\u001b[0m \u001b[0m_get_module_details\u001b[0m\u001b[1;33m(\u001b[0m\u001b[0mmod_name\u001b[0m\u001b[1;33m)\u001b[0m\u001b[1;33m\u001b[0m\u001b[0m\n\u001b[0m\u001b[0;32m    171\u001b[0m     \u001b[1;32mif\u001b[0m \u001b[0mrun_name\u001b[0m \u001b[1;32mis\u001b[0m \u001b[0mNone\u001b[0m\u001b[1;33m:\u001b[0m\u001b[1;33m\u001b[0m\u001b[0m\n\u001b[0;32m    172\u001b[0m         \u001b[0mrun_name\u001b[0m \u001b[1;33m=\u001b[0m \u001b[0mmod_name\u001b[0m\u001b[1;33m\u001b[0m\u001b[0m\n",
      "\u001b[1;32m/usr/lib/python2.7/runpy.pyc\u001b[0m in \u001b[0;36m_get_module_details\u001b[1;34m(mod_name)\u001b[0m\n\u001b[0;32m    110\u001b[0m         \u001b[1;32mexcept\u001b[0m \u001b[0mImportError\u001b[0m\u001b[1;33m,\u001b[0m \u001b[0me\u001b[0m\u001b[1;33m:\u001b[0m\u001b[1;33m\u001b[0m\u001b[0m\n\u001b[0;32m    111\u001b[0m             raise ImportError((\"%s; %r is a package and cannot \" +\n\u001b[1;32m--> 112\u001b[1;33m                                \"be directly executed\") %(e, mod_name))\n\u001b[0m\u001b[0;32m    113\u001b[0m     \u001b[0mcode\u001b[0m \u001b[1;33m=\u001b[0m \u001b[0mloader\u001b[0m\u001b[1;33m.\u001b[0m\u001b[0mget_code\u001b[0m\u001b[1;33m(\u001b[0m\u001b[0mmod_name\u001b[0m\u001b[1;33m)\u001b[0m\u001b[1;33m\u001b[0m\u001b[0m\n\u001b[0;32m    114\u001b[0m     \u001b[1;32mif\u001b[0m \u001b[0mcode\u001b[0m \u001b[1;32mis\u001b[0m \u001b[0mNone\u001b[0m\u001b[1;33m:\u001b[0m\u001b[1;33m\u001b[0m\u001b[0m\n",
      "\u001b[1;31mImportError\u001b[0m: No module named requests.__main__; 'requests' is a package and cannot be directly executed"
     ]
    }
   ],
   "source": [
    "runpy.run_module('requests')"
   ]
  },
  {
   "cell_type": "code",
   "execution_count": null,
   "metadata": {
    "collapsed": true
   },
   "outputs": [],
   "source": []
  },
  {
   "cell_type": "code",
   "execution_count": 29,
   "metadata": {
    "collapsed": false
   },
   "outputs": [
    {
     "name": "stdout",
     "output_type": "stream",
     "text": [
      "Name of notebook to tag: wcmnikolatags\n"
     ]
    }
   ],
   "source": [
    "nbog = raw_input('Name of notebook to tag: ')"
   ]
  },
  {
   "cell_type": "code",
   "execution_count": 30,
   "metadata": {
    "collapsed": false
   },
   "outputs": [],
   "source": [
    "files = file_paths(filtered_walk('/home/wcmckee/github/', depth=100, included_files=[nbog + '.ipynb']))"
   ]
  },
  {
   "cell_type": "code",
   "execution_count": 35,
   "metadata": {
    "collapsed": false
   },
   "outputs": [],
   "source": [
    "#Easier to access ipynb and access the code import cell.\n",
    "#Parse the notebook for import tags\n",
    "#IPython module wrapper for returning list of imported modules\n",
    "#from a ipynb file. \n",
    "#Get the list of modules for tags from this."
   ]
  },
  {
   "cell_type": "code",
   "execution_count": 32,
   "metadata": {
    "collapsed": false,
    "scrolled": true
   },
   "outputs": [
    {
     "name": "stdout",
     "output_type": "stream",
     "text": [
      "{\n",
      " \"cells\": [\n",
      "  {\n",
      "   \"cell_type\": \"markdown\",\n",
      "   \"metadata\": {},\n",
      "   \"source\": [\n",
      "    \"wcm Nikola Tags\\n\",\n",
      "    \"\\n\",\n",
      "    \"convert ipynb/py doc imports as tags for nikola blog .meta files.\\n\",\n",
      "    \"\\n\",\n",
      "    \"When user searches for notebook to blog with bbknikola python script also get the tags for the .meta file. Open up the .py file and convert this:\\n\",\n",
      "    \"\\n\",\n",
      "    \"blogpost.py\\n\",\n",
      "    \"\\n\",\n",
      "    \"import requests\\n\",\n",
      "    \"import os\\n\",\n",
      "    \"import re\\n\",\n",
      "    \"\\n\",\n",
      "    \"Into:\\n\",\n",
      "    \"\\n\",\n",
      "    \"blogpost.meta\\n\",\n",
      "    \"\\n\",\n",
      "    \"blogpost\\n\",\n",
      "    \"blogpost\\n\",\n",
      "    \"2015/02/31 00:00:00\\n\",\n",
      "    \"requests, os, re\"\n",
      "   ]\n",
      "  },\n",
      "  {\n",
      "   \"cell_type\": \"markdown\",\n",
      "   \"metadata\": {},\n",
      "   \"source\": [\n",
      "    \"Categorie can be the name of the repo.\\n\",\n",
      "    \"Need a repo for Nikola scripts\"\n",
      "   ]\n",
      "  },\n",
      "  {\n",
      "   \"cell_type\": \"code\",\n",
      "   \"execution_count\": 20,\n",
      "   \"metadata\": {\n",
      "    \"collapsed\": false\n",
      "   },\n",
      "   \"outputs\": [],\n",
      "   \"source\": [\n",
      "    \"import os\\n\",\n",
      "    \"from walkdir import filtered_walk, dir_paths, all_paths, file_paths\\n\"\n",
      "   ]\n",
      "  },\n",
      "  {\n",
      "   \"cell_type\": \"code\",\n",
      "   \"execution_count\": 21,\n",
      "   \"metadata\": {\n",
      "    \"collapsed\": false\n",
      "   },\n",
      "   \"outputs\": [\n",
      "    {\n",
      "     \"name\": \"stdout\",\n",
      "     \"output_type\": \"stream\",\n",
      "     \"text\": [\n",
      "      \"Name of notebook to tag: wcmnikolatags\\n\"\n",
      "     ]\n",
      "    }\n",
      "   ],\n",
      "   \"source\": [\n",
      "    \"nbog = raw_input('Name of notebook to tag: ')\"\n",
      "   ]\n",
      "  },\n",
      "  {\n",
      "   \"cell_type\": \"code\",\n",
      "   \"execution_count\": 22,\n",
      "   \"metadata\": {\n",
      "    \"collapsed\": false\n",
      "   },\n",
      "   \"outputs\": [],\n",
      "   \"source\": [\n",
      "    \"files = file_paths(filtered_walk('/home/wcmckee/github/', depth=100, included_files=[nbog + '.py']))\"\n",
      "   ]\n",
      "  },\n",
      "  {\n",
      "   \"cell_type\": \"code\",\n",
      "   \"execution_count\": 23,\n",
      "   \"metadata\": {\n",
      "    \"collapsed\": false\n",
      "   },\n",
      "   \"outputs\": [\n",
      "    {\n",
      "     \"name\": \"stdout\",\n",
      "     \"output_type\": \"stream\",\n",
      "     \"text\": [\n",
      "      \"<generator object file_paths at 0x97ece14>\\n\"\n",
      "     ]\n",
      "    }\n",
      "   ],\n",
      "   \"source\": [\n",
      "    \"print files\"\n",
      "   ]\n",
      "  },\n",
      "  {\n",
      "   \"cell_type\": \"code\",\n",
      "   \"execution_count\": 24,\n",
      "   \"metadata\": {\n",
      "    \"collapsed\": false,\n",
      "    \"scrolled\": true\n",
      "   },\n",
      "   \"outputs\": [\n",
      "    {\n",
      "     \"name\": \"stdout\",\n",
      "     \"output_type\": \"stream\",\n",
      "     \"text\": [\n",
      "      \"\\n\",\n",
      "      \"# coding: utf-8\\n\",\n",
      "      \"\\n\",\n",
      "      \"# wcm Nikola Tags\\n\",\n",
      "      \"# \\n\",\n",
      "      \"# convert ipynb/py doc imports as tags for nikola blog .meta files.\\n\",\n",
      "      \"# \\n\",\n",
      "      \"# When user searches for notebook to blog with bbknikola python script also get the tags for the .meta file. Open up the .py file and convert this:\\n\",\n",
      "      \"# \\n\",\n",
      "      \"# blogpost.py\\n\",\n",
      "      \"# \\n\",\n",
      "      \"# import requests\\n\",\n",
      "      \"# import os\\n\",\n",
      "      \"# import re\\n\",\n",
      "      \"# \\n\",\n",
      "      \"# Into:\\n\",\n",
      "      \"# \\n\",\n",
      "      \"# blogpost.meta\\n\",\n",
      "      \"# \\n\",\n",
      "      \"# blogpost\\n\",\n",
      "      \"# blogpost\\n\",\n",
      "      \"# 2015/02/31 00:00:00\\n\",\n",
      "      \"# requests, os, re\\n\",\n",
      "      \"\\n\",\n",
      "      \"# Categorie can be the name of the repo.\\n\",\n",
      "      \"# Need a repo for Nikola scripts\\n\",\n",
      "      \"\\n\",\n",
      "      \"# In[13]:\\n\",\n",
      "      \"\\n\",\n",
      "      \"import os\\n\",\n",
      "      \"from walkdir import filtered_walk, dir_paths, all_paths, file_paths\\n\",\n",
      "      \"\\n\",\n",
      "      \"\\n\",\n",
      "      \"# In[14]:\\n\",\n",
      "      \"\\n\",\n",
      "      \"nbog = raw_input('Name of notebook to tag: ')\\n\",\n",
      "      \"\\n\",\n",
      "      \"\\n\",\n",
      "      \"# In[15]:\\n\",\n",
      "      \"\\n\",\n",
      "      \"files = file_paths(filtered_walk('/home/wcmckee/github/', depth=100, included_files=[nbog + '.py']))\\n\",\n",
      "      \"\\n\",\n",
      "      \"\\n\",\n",
      "      \"# In[16]:\\n\",\n",
      "      \"\\n\",\n",
      "      \"print files\\n\",\n",
      "      \"\\n\",\n",
      "      \"\\n\",\n",
      "      \"# In[17]:\\n\",\n",
      "      \"\\n\",\n",
      "      \"for fil in files:\\n\",\n",
      "      \"    #print fil\\n\",\n",
      "      \"    opfil = open(fil, 'r')\\n\",\n",
      "      \"    print opfil.read()\\n\",\n",
      "      \"    opfil.close()\\n\",\n",
      "      \"\\n\",\n",
      "      \"\\n\",\n",
      "      \"# In[19]:\\n\",\n",
      "      \"\\n\",\n",
      "      \"opfilz = open(fil, 'r')\\n\",\n",
      "      \"\\n\",\n",
      "      \"opfilz.read()\\n\",\n",
      "      \"\\n\",\n",
      "      \"\\n\",\n",
      "      \"# In[1]:\\n\",\n",
      "      \"\\n\",\n",
      "      \"#python module that can be used to scan .py files and return\\n\",\n",
      "      \"#the imports as a list.\\n\",\n",
      "      \"\\n\",\n",
      "      \"\\n\",\n",
      "      \"# In[ ]:\\n\",\n",
      "      \"\\n\",\n",
      "      \"\\n\",\n",
      "      \"\\n\",\n",
      "      \"\\n\"\n",
      "     ]\n",
      "    }\n",
      "   ],\n",
      "   \"source\": [\n",
      "    \"for fil in files:\\n\",\n",
      "    \"    #print fil\\n\",\n",
      "    \"    opfil = open(fil, 'r')\\n\",\n",
      "    \"    print opfil.read()\\n\",\n",
      "    \"    opfil.close()\"\n",
      "   ]\n",
      "  },\n",
      "  {\n",
      "   \"cell_type\": \"code\",\n",
      "   \"execution_count\": 27,\n",
      "   \"metadata\": {\n",
      "    \"collapsed\": false,\n",
      "    \"scrolled\": true\n",
      "   },\n",
      "   \"outputs\": [\n",
      "    {\n",
      "     \"data\": {\n",
      "      \"text/plain\": [\n",
      "       \"\\\"\\\\n# coding: utf-8\\\\n\\\\n# wcm Nikola Tags\\\\n# \\\\n# convert ipynb/py doc imports as tags for nikola blog .meta files.\\\\n# \\\\n# When user searches for notebook to blog with bbknikola python script also get the tags for the .meta file. Open up the .py file and convert this:\\\\n# \\\\n# blogpost.py\\\\n# \\\\n# import requests\\\\n# import os\\\\n# import re\\\\n# \\\\n# Into:\\\\n# \\\\n# blogpost.meta\\\\n# \\\\n# blogpost\\\\n# blogpost\\\\n# 2015/02/31 00:00:00\\\\n# requests, os, re\\\\n\\\\n# Categorie can be the name of the repo.\\\\n# Need a repo for Nikola scripts\\\\n\\\\n# In[13]:\\\\n\\\\nimport os\\\\nfrom walkdir import filtered_walk, dir_paths, all_paths, file_paths\\\\n\\\\n\\\\n# In[14]:\\\\n\\\\nnbog = raw_input('Name of notebook to tag: ')\\\\n\\\\n\\\\n# In[15]:\\\\n\\\\nfiles = file_paths(filtered_walk('/home/wcmckee/github/', depth=100, included_files=[nbog + '.py']))\\\\n\\\\n\\\\n# In[16]:\\\\n\\\\nprint files\\\\n\\\\n\\\\n# In[17]:\\\\n\\\\nfor fil in files:\\\\n    #print fil\\\\n    opfil = open(fil, 'r')\\\\n    print opfil.read()\\\\n    opfil.close()\\\\n\\\\n\\\\n# In[19]:\\\\n\\\\nopfilz = open(fil, 'r')\\\\n\\\\nopfilz.read()\\\\n\\\\n\\\\n# In[1]:\\\\n\\\\n#python module that can be used to scan .py files and return\\\\n#the imports as a list.\\\\n\\\\n\\\\n# In[ ]:\\\\n\\\\n\\\\n\\\\n\\\"\"\n",
      "      ]\n",
      "     },\n",
      "     \"execution_count\": 27,\n",
      "     \"metadata\": {},\n",
      "     \"output_type\": \"execute_result\"\n",
      "    }\n",
      "   ],\n",
      "   \"source\": [\n",
      "    \"opfilz = open(fil, 'r')\\n\",\n",
      "    \"\\n\",\n",
      "    \"opfilz.read()\"\n",
      "   ]\n",
      "  },\n",
      "  {\n",
      "   \"cell_type\": \"code\",\n",
      "   \"execution_count\": 26,\n",
      "   \"metadata\": {\n",
      "    \"collapsed\": true\n",
      "   },\n",
      "   \"outputs\": [],\n",
      "   \"source\": [\n",
      "    \"#python module that can be used to scan .py files and return\\n\",\n",
      "    \"#the imports as a list.\"\n",
      "   ]\n",
      "  },\n",
      "  {\n",
      "   \"cell_type\": \"code\",\n",
      "   \"execution_count\": null,\n",
      "   \"metadata\": {\n",
      "    \"collapsed\": true\n",
      "   },\n",
      "   \"outputs\": [],\n",
      "   \"source\": []\n",
      "  }\n",
      " ],\n",
      " \"metadata\": {\n",
      "  \"kernelspec\": {\n",
      "   \"display_name\": \"Python 2\",\n",
      "   \"language\": \"python\",\n",
      "   \"name\": \"python2\"\n",
      "  },\n",
      "  \"language_info\": {\n",
      "   \"codemirror_mode\": {\n",
      "    \"name\": \"ipython\",\n",
      "    \"version\": 2\n",
      "   },\n",
      "   \"file_extension\": \".py\",\n",
      "   \"mimetype\": \"text/x-python\",\n",
      "   \"name\": \"python\",\n",
      "   \"nbconvert_exporter\": \"python\",\n",
      "   \"pygments_lexer\": \"ipython2\",\n",
      "   \"version\": \"2.7.3\"\n",
      "  }\n",
      " },\n",
      " \"nbformat\": 4,\n",
      " \"nbformat_minor\": 0\n",
      "}\n",
      "\n"
     ]
    }
   ],
   "source": [
    "for fil in files:\n",
    "    #print fil\n",
    "    opfil = open(fil, 'r')\n",
    "    print opfil.read()\n",
    "    opfil.close()"
   ]
  },
  {
   "cell_type": "code",
   "execution_count": 33,
   "metadata": {
    "collapsed": false,
    "scrolled": true
   },
   "outputs": [
    {
     "data": {
      "text/plain": [
       "'{\\n \"cells\": [\\n  {\\n   \"cell_type\": \"markdown\",\\n   \"metadata\": {},\\n   \"source\": [\\n    \"wcm Nikola Tags\\\\n\",\\n    \"\\\\n\",\\n    \"convert ipynb/py doc imports as tags for nikola blog .meta files.\\\\n\",\\n    \"\\\\n\",\\n    \"When user searches for notebook to blog with bbknikola python script also get the tags for the .meta file. Open up the .py file and convert this:\\\\n\",\\n    \"\\\\n\",\\n    \"blogpost.py\\\\n\",\\n    \"\\\\n\",\\n    \"import requests\\\\n\",\\n    \"import os\\\\n\",\\n    \"import re\\\\n\",\\n    \"\\\\n\",\\n    \"Into:\\\\n\",\\n    \"\\\\n\",\\n    \"blogpost.meta\\\\n\",\\n    \"\\\\n\",\\n    \"blogpost\\\\n\",\\n    \"blogpost\\\\n\",\\n    \"2015/02/31 00:00:00\\\\n\",\\n    \"requests, os, re\"\\n   ]\\n  },\\n  {\\n   \"cell_type\": \"markdown\",\\n   \"metadata\": {},\\n   \"source\": [\\n    \"Categorie can be the name of the repo.\\\\n\",\\n    \"Need a repo for Nikola scripts\"\\n   ]\\n  },\\n  {\\n   \"cell_type\": \"code\",\\n   \"execution_count\": 20,\\n   \"metadata\": {\\n    \"collapsed\": false\\n   },\\n   \"outputs\": [],\\n   \"source\": [\\n    \"import os\\\\n\",\\n    \"from walkdir import filtered_walk, dir_paths, all_paths, file_paths\\\\n\"\\n   ]\\n  },\\n  {\\n   \"cell_type\": \"code\",\\n   \"execution_count\": 21,\\n   \"metadata\": {\\n    \"collapsed\": false\\n   },\\n   \"outputs\": [\\n    {\\n     \"name\": \"stdout\",\\n     \"output_type\": \"stream\",\\n     \"text\": [\\n      \"Name of notebook to tag: wcmnikolatags\\\\n\"\\n     ]\\n    }\\n   ],\\n   \"source\": [\\n    \"nbog = raw_input(\\'Name of notebook to tag: \\')\"\\n   ]\\n  },\\n  {\\n   \"cell_type\": \"code\",\\n   \"execution_count\": 22,\\n   \"metadata\": {\\n    \"collapsed\": false\\n   },\\n   \"outputs\": [],\\n   \"source\": [\\n    \"files = file_paths(filtered_walk(\\'/home/wcmckee/github/\\', depth=100, included_files=[nbog + \\'.py\\']))\"\\n   ]\\n  },\\n  {\\n   \"cell_type\": \"code\",\\n   \"execution_count\": 23,\\n   \"metadata\": {\\n    \"collapsed\": false\\n   },\\n   \"outputs\": [\\n    {\\n     \"name\": \"stdout\",\\n     \"output_type\": \"stream\",\\n     \"text\": [\\n      \"<generator object file_paths at 0x97ece14>\\\\n\"\\n     ]\\n    }\\n   ],\\n   \"source\": [\\n    \"print files\"\\n   ]\\n  },\\n  {\\n   \"cell_type\": \"code\",\\n   \"execution_count\": 24,\\n   \"metadata\": {\\n    \"collapsed\": false,\\n    \"scrolled\": true\\n   },\\n   \"outputs\": [\\n    {\\n     \"name\": \"stdout\",\\n     \"output_type\": \"stream\",\\n     \"text\": [\\n      \"\\\\n\",\\n      \"# coding: utf-8\\\\n\",\\n      \"\\\\n\",\\n      \"# wcm Nikola Tags\\\\n\",\\n      \"# \\\\n\",\\n      \"# convert ipynb/py doc imports as tags for nikola blog .meta files.\\\\n\",\\n      \"# \\\\n\",\\n      \"# When user searches for notebook to blog with bbknikola python script also get the tags for the .meta file. Open up the .py file and convert this:\\\\n\",\\n      \"# \\\\n\",\\n      \"# blogpost.py\\\\n\",\\n      \"# \\\\n\",\\n      \"# import requests\\\\n\",\\n      \"# import os\\\\n\",\\n      \"# import re\\\\n\",\\n      \"# \\\\n\",\\n      \"# Into:\\\\n\",\\n      \"# \\\\n\",\\n      \"# blogpost.meta\\\\n\",\\n      \"# \\\\n\",\\n      \"# blogpost\\\\n\",\\n      \"# blogpost\\\\n\",\\n      \"# 2015/02/31 00:00:00\\\\n\",\\n      \"# requests, os, re\\\\n\",\\n      \"\\\\n\",\\n      \"# Categorie can be the name of the repo.\\\\n\",\\n      \"# Need a repo for Nikola scripts\\\\n\",\\n      \"\\\\n\",\\n      \"# In[13]:\\\\n\",\\n      \"\\\\n\",\\n      \"import os\\\\n\",\\n      \"from walkdir import filtered_walk, dir_paths, all_paths, file_paths\\\\n\",\\n      \"\\\\n\",\\n      \"\\\\n\",\\n      \"# In[14]:\\\\n\",\\n      \"\\\\n\",\\n      \"nbog = raw_input(\\'Name of notebook to tag: \\')\\\\n\",\\n      \"\\\\n\",\\n      \"\\\\n\",\\n      \"# In[15]:\\\\n\",\\n      \"\\\\n\",\\n      \"files = file_paths(filtered_walk(\\'/home/wcmckee/github/\\', depth=100, included_files=[nbog + \\'.py\\']))\\\\n\",\\n      \"\\\\n\",\\n      \"\\\\n\",\\n      \"# In[16]:\\\\n\",\\n      \"\\\\n\",\\n      \"print files\\\\n\",\\n      \"\\\\n\",\\n      \"\\\\n\",\\n      \"# In[17]:\\\\n\",\\n      \"\\\\n\",\\n      \"for fil in files:\\\\n\",\\n      \"    #print fil\\\\n\",\\n      \"    opfil = open(fil, \\'r\\')\\\\n\",\\n      \"    print opfil.read()\\\\n\",\\n      \"    opfil.close()\\\\n\",\\n      \"\\\\n\",\\n      \"\\\\n\",\\n      \"# In[19]:\\\\n\",\\n      \"\\\\n\",\\n      \"opfilz = open(fil, \\'r\\')\\\\n\",\\n      \"\\\\n\",\\n      \"opfilz.read()\\\\n\",\\n      \"\\\\n\",\\n      \"\\\\n\",\\n      \"# In[1]:\\\\n\",\\n      \"\\\\n\",\\n      \"#python module that can be used to scan .py files and return\\\\n\",\\n      \"#the imports as a list.\\\\n\",\\n      \"\\\\n\",\\n      \"\\\\n\",\\n      \"# In[ ]:\\\\n\",\\n      \"\\\\n\",\\n      \"\\\\n\",\\n      \"\\\\n\",\\n      \"\\\\n\"\\n     ]\\n    }\\n   ],\\n   \"source\": [\\n    \"for fil in files:\\\\n\",\\n    \"    #print fil\\\\n\",\\n    \"    opfil = open(fil, \\'r\\')\\\\n\",\\n    \"    print opfil.read()\\\\n\",\\n    \"    opfil.close()\"\\n   ]\\n  },\\n  {\\n   \"cell_type\": \"code\",\\n   \"execution_count\": 27,\\n   \"metadata\": {\\n    \"collapsed\": false,\\n    \"scrolled\": true\\n   },\\n   \"outputs\": [\\n    {\\n     \"data\": {\\n      \"text/plain\": [\\n       \"\\\\\"\\\\\\\\n# coding: utf-8\\\\\\\\n\\\\\\\\n# wcm Nikola Tags\\\\\\\\n# \\\\\\\\n# convert ipynb/py doc imports as tags for nikola blog .meta files.\\\\\\\\n# \\\\\\\\n# When user searches for notebook to blog with bbknikola python script also get the tags for the .meta file. Open up the .py file and convert this:\\\\\\\\n# \\\\\\\\n# blogpost.py\\\\\\\\n# \\\\\\\\n# import requests\\\\\\\\n# import os\\\\\\\\n# import re\\\\\\\\n# \\\\\\\\n# Into:\\\\\\\\n# \\\\\\\\n# blogpost.meta\\\\\\\\n# \\\\\\\\n# blogpost\\\\\\\\n# blogpost\\\\\\\\n# 2015/02/31 00:00:00\\\\\\\\n# requests, os, re\\\\\\\\n\\\\\\\\n# Categorie can be the name of the repo.\\\\\\\\n# Need a repo for Nikola scripts\\\\\\\\n\\\\\\\\n# In[13]:\\\\\\\\n\\\\\\\\nimport os\\\\\\\\nfrom walkdir import filtered_walk, dir_paths, all_paths, file_paths\\\\\\\\n\\\\\\\\n\\\\\\\\n# In[14]:\\\\\\\\n\\\\\\\\nnbog = raw_input(\\'Name of notebook to tag: \\')\\\\\\\\n\\\\\\\\n\\\\\\\\n# In[15]:\\\\\\\\n\\\\\\\\nfiles = file_paths(filtered_walk(\\'/home/wcmckee/github/\\', depth=100, included_files=[nbog + \\'.py\\']))\\\\\\\\n\\\\\\\\n\\\\\\\\n# In[16]:\\\\\\\\n\\\\\\\\nprint files\\\\\\\\n\\\\\\\\n\\\\\\\\n# In[17]:\\\\\\\\n\\\\\\\\nfor fil in files:\\\\\\\\n    #print fil\\\\\\\\n    opfil = open(fil, \\'r\\')\\\\\\\\n    print opfil.read()\\\\\\\\n    opfil.close()\\\\\\\\n\\\\\\\\n\\\\\\\\n# In[19]:\\\\\\\\n\\\\\\\\nopfilz = open(fil, \\'r\\')\\\\\\\\n\\\\\\\\nopfilz.read()\\\\\\\\n\\\\\\\\n\\\\\\\\n# In[1]:\\\\\\\\n\\\\\\\\n#python module that can be used to scan .py files and return\\\\\\\\n#the imports as a list.\\\\\\\\n\\\\\\\\n\\\\\\\\n# In[ ]:\\\\\\\\n\\\\\\\\n\\\\\\\\n\\\\\\\\n\\\\\"\"\\n      ]\\n     },\\n     \"execution_count\": 27,\\n     \"metadata\": {},\\n     \"output_type\": \"execute_result\"\\n    }\\n   ],\\n   \"source\": [\\n    \"opfilz = open(fil, \\'r\\')\\\\n\",\\n    \"\\\\n\",\\n    \"opfilz.read()\"\\n   ]\\n  },\\n  {\\n   \"cell_type\": \"code\",\\n   \"execution_count\": 26,\\n   \"metadata\": {\\n    \"collapsed\": true\\n   },\\n   \"outputs\": [],\\n   \"source\": [\\n    \"#python module that can be used to scan .py files and return\\\\n\",\\n    \"#the imports as a list.\"\\n   ]\\n  },\\n  {\\n   \"cell_type\": \"code\",\\n   \"execution_count\": null,\\n   \"metadata\": {\\n    \"collapsed\": true\\n   },\\n   \"outputs\": [],\\n   \"source\": []\\n  }\\n ],\\n \"metadata\": {\\n  \"kernelspec\": {\\n   \"display_name\": \"Python 2\",\\n   \"language\": \"python\",\\n   \"name\": \"python2\"\\n  },\\n  \"language_info\": {\\n   \"codemirror_mode\": {\\n    \"name\": \"ipython\",\\n    \"version\": 2\\n   },\\n   \"file_extension\": \".py\",\\n   \"mimetype\": \"text/x-python\",\\n   \"name\": \"python\",\\n   \"nbconvert_exporter\": \"python\",\\n   \"pygments_lexer\": \"ipython2\",\\n   \"version\": \"2.7.3\"\\n  }\\n },\\n \"nbformat\": 4,\\n \"nbformat_minor\": 0\\n}\\n'"
      ]
     },
     "execution_count": 33,
     "metadata": {},
     "output_type": "execute_result"
    }
   ],
   "source": [
    "opfilz = open(fil, 'r')\n",
    "\n",
    "opfilz.read()"
   ]
  },
  {
   "cell_type": "code",
   "execution_count": 34,
   "metadata": {
    "collapsed": true
   },
   "outputs": [],
   "source": [
    "#python module that can be used to scan .py files and return\n",
    "#the imports as a list."
   ]
  },
  {
   "cell_type": "code",
   "execution_count": null,
   "metadata": {
    "collapsed": true
   },
   "outputs": [],
   "source": []
  }
 ],
 "metadata": {
  "kernelspec": {
   "display_name": "Python 2",
   "name": "python2"
  },
  "language_info": {
   "codemirror_mode": {
    "name": "ipython",
    "version": 2
   },
   "file_extension": ".py",
   "mimetype": "text/x-python",
   "name": "python",
   "nbconvert_exporter": "python",
   "pygments_lexer": "ipython2",
   "version": "2.7.8"
  }
 },
 "nbformat": 4,
 "nbformat_minor": 0
}
