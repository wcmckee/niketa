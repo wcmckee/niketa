{
 "cells": [
  {
   "cell_type": "markdown",
   "metadata": {},
   "source": [
    "wcm Nikola Tags\n",
    "\n",
    "convert ipynb/py doc imports as tags for nikola blog .meta files.\n",
    "\n",
    "When user searches for notebook to blog with bbknikola python script also get the tags for the .meta file. Open up the .py file and convert this:\n",
    "\n",
    "blogpost.py\n",
    "\n",
    "import requests\n",
    "import os\n",
    "import re\n",
    "\n",
    "Into:\n",
    "\n",
    "blogpost.meta\n",
    "\n",
    "blogpost\n",
    "blogpost\n",
    "2015/02/31 00:00:00\n",
    "requests, os, re"
   ]
  },
  {
   "cell_type": "markdown",
   "metadata": {},
   "source": [
    "Categorie can be the name of the repo.\n",
    "Need a repo for Nikola scripts"
   ]
  },
  {
   "cell_type": "code",
   "execution_count": 13,
   "metadata": {
    "collapsed": false
   },
   "outputs": [],
   "source": [
    "import os\n",
    "from walkdir import filtered_walk, dir_paths, all_paths, file_paths\n"
   ]
  },
  {
   "cell_type": "code",
   "execution_count": 14,
   "metadata": {
    "collapsed": false
   },
   "outputs": [
    {
     "name": "stdout",
     "output_type": "stream",
     "text": [
      "Name of notebook to tag: wcmnikolatags\n"
     ]
    }
   ],
   "source": [
    "nbog = raw_input('Name of notebook to tag: ')"
   ]
  },
  {
   "cell_type": "code",
   "execution_count": 15,
   "metadata": {
    "collapsed": false
   },
   "outputs": [],
   "source": [
    "files = file_paths(filtered_walk('/home/wcmckee/github/', depth=100, included_files=[nbog + '.py']))"
   ]
  },
  {
   "cell_type": "code",
   "execution_count": 16,
   "metadata": {
    "collapsed": false
   },
   "outputs": [
    {
     "name": "stdout",
     "output_type": "stream",
     "text": [
      "<generator object file_paths at 0x97ec504>\n"
     ]
    }
   ],
   "source": [
    "print files"
   ]
  },
  {
   "cell_type": "code",
   "execution_count": 17,
   "metadata": {
    "collapsed": false,
    "scrolled": true
   },
   "outputs": [
    {
     "name": "stdout",
     "output_type": "stream",
     "text": [
      "\n",
      "# coding: utf-8\n",
      "\n",
      "# wcm Nikola Tags\n",
      "# \n",
      "# convert ipynb/py doc imports as tags for nikola blog .meta files.\n",
      "# \n",
      "# When user searches for notebook to blog with bbknikola python script also get the tags for the .meta file. Open up the .py file and convert this:\n",
      "# \n",
      "# blogpost.py\n",
      "# \n",
      "# import requests\n",
      "# import os\n",
      "# import re\n",
      "# \n",
      "# Into:\n",
      "# \n",
      "# blogpost.meta\n",
      "# \n",
      "# blogpost\n",
      "# blogpost\n",
      "# 2015/02/31 00:00:00\n",
      "# requests, os, re\n",
      "\n",
      "# Categorie can be the name of the repo.\n",
      "# Need a repo for Nikola scripts\n",
      "\n",
      "# In[ ]:\n",
      "\n",
      "\n",
      "\n",
      "\n"
     ]
    }
   ],
   "source": [
    "for fil in files:\n",
    "    #print fil\n",
    "    opfil = open(fil, 'r')\n",
    "    print opfil.read()\n",
    "    opfil.close()"
   ]
  },
  {
   "cell_type": "code",
   "execution_count": 19,
   "metadata": {
    "collapsed": false,
    "scrolled": false
   },
   "outputs": [
    {
     "data": {
      "text/plain": [
       "'\\n# coding: utf-8\\n\\n# wcm Nikola Tags\\n# \\n# convert ipynb/py doc imports as tags for nikola blog .meta files.\\n# \\n# When user searches for notebook to blog with bbknikola python script also get the tags for the .meta file. Open up the .py file and convert this:\\n# \\n# blogpost.py\\n# \\n# import requests\\n# import os\\n# import re\\n# \\n# Into:\\n# \\n# blogpost.meta\\n# \\n# blogpost\\n# blogpost\\n# 2015/02/31 00:00:00\\n# requests, os, re\\n\\n# Categorie can be the name of the repo.\\n# Need a repo for Nikola scripts\\n\\n# In[ ]:\\n\\n\\n\\n'"
      ]
     },
     "execution_count": 19,
     "metadata": {},
     "output_type": "execute_result"
    }
   ],
   "source": [
    "opfilz = open(fil, 'r')\n",
    "\n",
    "opfilz.read()"
   ]
  },
  {
   "cell_type": "code",
   "execution_count": 1,
   "metadata": {
    "collapsed": true
   },
   "outputs": [],
   "source": [
    "#python module that can be used to scan .py files and return\n",
    "#the imports as a list."
   ]
  },
  {
   "cell_type": "code",
   "execution_count": null,
   "metadata": {
    "collapsed": true
   },
   "outputs": [],
   "source": []
  }
 ],
 "metadata": {
  "kernelspec": {
   "display_name": "Python 2",
   "language": "python",
   "name": "python2"
  },
  "language_info": {
   "codemirror_mode": {
    "name": "ipython",
    "version": 2
   },
   "file_extension": ".py",
   "mimetype": "text/x-python",
   "name": "python",
   "nbconvert_exporter": "python",
   "pygments_lexer": "ipython2",
   "version": "2.7.3"
  }
 },
 "nbformat": 4,
 "nbformat_minor": 0
}
