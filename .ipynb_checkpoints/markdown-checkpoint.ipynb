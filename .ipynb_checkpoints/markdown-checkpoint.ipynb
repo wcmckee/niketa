{
 "cells": [
  {
   "cell_type": "markdown",
   "metadata": {},
   "source": [
    "gm"
   ]
  },
  {
   "cell_type": "code",
   "execution_count": 1,
   "metadata": {
    "collapsed": false
   },
   "outputs": [
    {
     "name": "stdout",
     "output_type": "stream",
     "text": [
      "Enter a title:\n",
      "test\n",
      "Enter your paragraph.  Enter a blank line to finish.\n",
      "this is a test\n",
      "\n"
     ]
    }
   ],
   "source": [
    "#! /usr/bin/python\n",
    "\n",
    "import dominate # 'pip install dominate' must be run once before this\n",
    "from dominate.tags import *\n",
    "import re # Only needed because dominate doesn't let us set tab indentation\n",
    "import tempfile\n",
    "import webbrowser\n",
    "\n",
    "def generate_html(title, paragraphs):\n",
    "    page = dominate.document(title=title)\n",
    "    with page:\n",
    "        for paragraph in paragraphs:\n",
    "            p(paragraph)\n",
    "    return str(page)\n",
    "\n",
    "def read_paragraphs():\n",
    "    to_return = {'title': '', 'paragraphs': []}\n",
    "    to_return['title'] = raw_input(\"Enter a title:\\n\")\n",
    "    print \"Enter your paragraph.  Enter a blank line to finish.\"\n",
    "    for line in iter(raw_input, ''):\n",
    "        to_return['paragraphs'].append(line)\n",
    "    return to_return\n",
    "\n",
    "if __name__ == '__main__':\n",
    "    user_input = read_paragraphs()\n",
    "    html_output = generate_html(user_input['title'], user_input['paragraphs'])\n",
    "    with tempfile.NamedTemporaryFile(mode='w+t', suffix='.html', delete=False) as out:\n",
    "        # HACK: This is silly, but dominate doesn't provide a way to change the\n",
    "        # number of spaces used for a tab, but since it gives us exactly half\n",
    "        # as many as we want, we can double-up on spaces at start of line and\n",
    "        # get what we want\n",
    "        out.write(re.sub(r'^(\\s*)', r'\\1\\1', html_output, flags=re.MULTILINE))\n",
    "    webbrowser.open(out.name)"
   ]
  },
  {
   "cell_type": "code",
   "execution_count": null,
   "metadata": {
    "collapsed": false
   },
   "outputs": [],
   "source": []
  }
 ],
 "metadata": {
  "kernelspec": {
   "display_name": "Python 2",
   "name": "python2"
  },
  "language_info": {
   "codemirror_mode": {
    "name": "ipython",
    "version": 2
   },
   "file_extension": ".py",
   "mimetype": "text/x-python",
   "name": "python",
   "nbconvert_exporter": "python",
   "pygments_lexer": "ipython2",
   "version": "2.7.8"
  }
 },
 "nbformat": 4,
 "nbformat_minor": 0
}
